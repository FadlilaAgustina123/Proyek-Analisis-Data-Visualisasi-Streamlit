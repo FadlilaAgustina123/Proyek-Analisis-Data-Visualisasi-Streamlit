{
 "cells": [
  {
   "cell_type": "markdown",
   "metadata": {
    "id": "H9wADwK78DCz"
   },
   "source": [
    "# Proyek Analisis Data: [Bike Sharing Dataset]\n",
    "- **Nama:** [Fadlila Agustina]\n",
    "- **Email:** [21083010050@student.upnjatim.ac.id]\n",
    "- **ID Dicoding:** [M296D4KX2705]"
   ]
  },
  {
   "cell_type": "markdown",
   "metadata": {
    "id": "eE0raob58DC0"
   },
   "source": [
    "## Menentukan Pertanyaan Bisnis"
   ]
  },
  {
   "cell_type": "markdown",
   "metadata": {
    "id": "GmQeQ5YF8DC0"
   },
   "source": [
    "- Pertanyaan 1: Bagaimana tren peminjaman sepeda berubah berdasarkan musim (springer, summer, fall, winter) selama dua tahun (2011 dan 2012)?\n",
    "- Pertanyaan 2: Bagaimana perilaku peminjaman sepeda berubah saat terjadi perubahan mendadak dalam keadaan cuaca, dan apakah pengguna sepeda lebih memilih bersepeda pada cuaca ekstrem atau sebaliknya?\n",
    "- Pertanyaan 3: Bagaimana distribusi peminjaman sepeda berdasarkan hari kerja dan libur selama dua tahun terakhir?"
   ]
  },
  {
   "cell_type": "markdown",
   "metadata": {
    "id": "H-z4QGlO8DC1"
   },
   "source": [
    "## Import Semua Packages/Library yang Digunakan"
   ]
  },
  {
   "cell_type": "code",
   "execution_count": 52,
   "metadata": {
    "id": "FVYwaObI8DC1"
   },
   "outputs": [],
   "source": [
    "import numpy as np\n",
    "import pandas as pd\n",
    "import matplotlib.pyplot as plt\n",
    "import seaborn as sns"
   ]
  },
  {
   "cell_type": "markdown",
   "metadata": {
    "id": "h_Sh51Xy8DC1"
   },
   "source": [
    "## Data Wrangling"
   ]
  },
  {
   "cell_type": "markdown",
   "metadata": {
    "id": "sXU2GBYu8DC1"
   },
   "source": [
    "### Gathering Data"
   ]
  },
  {
   "cell_type": "code",
   "execution_count": 53,
   "metadata": {
    "id": "zjCBk1BI8DC1"
   },
   "outputs": [],
   "source": [
    "df_day = pd.read_csv(\"day.csv\")\n",
    "df_hour = pd.read_csv(\"hour.csv\")"
   ]
  },
  {
   "cell_type": "code",
   "execution_count": 54,
   "metadata": {
    "colab": {
     "base_uri": "https://localhost:8080/",
     "height": 617
    },
    "id": "Hm-x2pE9mKi1",
    "outputId": "51242e82-4bf3-4c9e-af99-97cad45070a0"
   },
   "outputs": [
    {
     "data": {
      "text/html": [
       "<div>\n",
       "<style scoped>\n",
       "    .dataframe tbody tr th:only-of-type {\n",
       "        vertical-align: middle;\n",
       "    }\n",
       "\n",
       "    .dataframe tbody tr th {\n",
       "        vertical-align: top;\n",
       "    }\n",
       "\n",
       "    .dataframe thead th {\n",
       "        text-align: right;\n",
       "    }\n",
       "</style>\n",
       "<table border=\"1\" class=\"dataframe\">\n",
       "  <thead>\n",
       "    <tr style=\"text-align: right;\">\n",
       "      <th></th>\n",
       "      <th>instant</th>\n",
       "      <th>dteday</th>\n",
       "      <th>season</th>\n",
       "      <th>yr</th>\n",
       "      <th>mnth</th>\n",
       "      <th>holiday</th>\n",
       "      <th>weekday</th>\n",
       "      <th>workingday</th>\n",
       "      <th>weathersit</th>\n",
       "      <th>temp</th>\n",
       "      <th>atemp</th>\n",
       "      <th>hum</th>\n",
       "      <th>windspeed</th>\n",
       "      <th>casual</th>\n",
       "      <th>registered</th>\n",
       "      <th>cnt</th>\n",
       "    </tr>\n",
       "  </thead>\n",
       "  <tbody>\n",
       "    <tr>\n",
       "      <th>0</th>\n",
       "      <td>1</td>\n",
       "      <td>2011-01-01</td>\n",
       "      <td>1</td>\n",
       "      <td>0</td>\n",
       "      <td>1</td>\n",
       "      <td>0</td>\n",
       "      <td>6</td>\n",
       "      <td>0</td>\n",
       "      <td>2</td>\n",
       "      <td>0.344167</td>\n",
       "      <td>0.363625</td>\n",
       "      <td>0.805833</td>\n",
       "      <td>0.160446</td>\n",
       "      <td>331</td>\n",
       "      <td>654</td>\n",
       "      <td>985</td>\n",
       "    </tr>\n",
       "    <tr>\n",
       "      <th>1</th>\n",
       "      <td>2</td>\n",
       "      <td>2011-01-02</td>\n",
       "      <td>1</td>\n",
       "      <td>0</td>\n",
       "      <td>1</td>\n",
       "      <td>0</td>\n",
       "      <td>0</td>\n",
       "      <td>0</td>\n",
       "      <td>2</td>\n",
       "      <td>0.363478</td>\n",
       "      <td>0.353739</td>\n",
       "      <td>0.696087</td>\n",
       "      <td>0.248539</td>\n",
       "      <td>131</td>\n",
       "      <td>670</td>\n",
       "      <td>801</td>\n",
       "    </tr>\n",
       "    <tr>\n",
       "      <th>2</th>\n",
       "      <td>3</td>\n",
       "      <td>2011-01-03</td>\n",
       "      <td>1</td>\n",
       "      <td>0</td>\n",
       "      <td>1</td>\n",
       "      <td>0</td>\n",
       "      <td>1</td>\n",
       "      <td>1</td>\n",
       "      <td>1</td>\n",
       "      <td>0.196364</td>\n",
       "      <td>0.189405</td>\n",
       "      <td>0.437273</td>\n",
       "      <td>0.248309</td>\n",
       "      <td>120</td>\n",
       "      <td>1229</td>\n",
       "      <td>1349</td>\n",
       "    </tr>\n",
       "    <tr>\n",
       "      <th>3</th>\n",
       "      <td>4</td>\n",
       "      <td>2011-01-04</td>\n",
       "      <td>1</td>\n",
       "      <td>0</td>\n",
       "      <td>1</td>\n",
       "      <td>0</td>\n",
       "      <td>2</td>\n",
       "      <td>1</td>\n",
       "      <td>1</td>\n",
       "      <td>0.200000</td>\n",
       "      <td>0.212122</td>\n",
       "      <td>0.590435</td>\n",
       "      <td>0.160296</td>\n",
       "      <td>108</td>\n",
       "      <td>1454</td>\n",
       "      <td>1562</td>\n",
       "    </tr>\n",
       "    <tr>\n",
       "      <th>4</th>\n",
       "      <td>5</td>\n",
       "      <td>2011-01-05</td>\n",
       "      <td>1</td>\n",
       "      <td>0</td>\n",
       "      <td>1</td>\n",
       "      <td>0</td>\n",
       "      <td>3</td>\n",
       "      <td>1</td>\n",
       "      <td>1</td>\n",
       "      <td>0.226957</td>\n",
       "      <td>0.229270</td>\n",
       "      <td>0.436957</td>\n",
       "      <td>0.186900</td>\n",
       "      <td>82</td>\n",
       "      <td>1518</td>\n",
       "      <td>1600</td>\n",
       "    </tr>\n",
       "    <tr>\n",
       "      <th>...</th>\n",
       "      <td>...</td>\n",
       "      <td>...</td>\n",
       "      <td>...</td>\n",
       "      <td>...</td>\n",
       "      <td>...</td>\n",
       "      <td>...</td>\n",
       "      <td>...</td>\n",
       "      <td>...</td>\n",
       "      <td>...</td>\n",
       "      <td>...</td>\n",
       "      <td>...</td>\n",
       "      <td>...</td>\n",
       "      <td>...</td>\n",
       "      <td>...</td>\n",
       "      <td>...</td>\n",
       "      <td>...</td>\n",
       "    </tr>\n",
       "    <tr>\n",
       "      <th>726</th>\n",
       "      <td>727</td>\n",
       "      <td>2012-12-27</td>\n",
       "      <td>1</td>\n",
       "      <td>1</td>\n",
       "      <td>12</td>\n",
       "      <td>0</td>\n",
       "      <td>4</td>\n",
       "      <td>1</td>\n",
       "      <td>2</td>\n",
       "      <td>0.254167</td>\n",
       "      <td>0.226642</td>\n",
       "      <td>0.652917</td>\n",
       "      <td>0.350133</td>\n",
       "      <td>247</td>\n",
       "      <td>1867</td>\n",
       "      <td>2114</td>\n",
       "    </tr>\n",
       "    <tr>\n",
       "      <th>727</th>\n",
       "      <td>728</td>\n",
       "      <td>2012-12-28</td>\n",
       "      <td>1</td>\n",
       "      <td>1</td>\n",
       "      <td>12</td>\n",
       "      <td>0</td>\n",
       "      <td>5</td>\n",
       "      <td>1</td>\n",
       "      <td>2</td>\n",
       "      <td>0.253333</td>\n",
       "      <td>0.255046</td>\n",
       "      <td>0.590000</td>\n",
       "      <td>0.155471</td>\n",
       "      <td>644</td>\n",
       "      <td>2451</td>\n",
       "      <td>3095</td>\n",
       "    </tr>\n",
       "    <tr>\n",
       "      <th>728</th>\n",
       "      <td>729</td>\n",
       "      <td>2012-12-29</td>\n",
       "      <td>1</td>\n",
       "      <td>1</td>\n",
       "      <td>12</td>\n",
       "      <td>0</td>\n",
       "      <td>6</td>\n",
       "      <td>0</td>\n",
       "      <td>2</td>\n",
       "      <td>0.253333</td>\n",
       "      <td>0.242400</td>\n",
       "      <td>0.752917</td>\n",
       "      <td>0.124383</td>\n",
       "      <td>159</td>\n",
       "      <td>1182</td>\n",
       "      <td>1341</td>\n",
       "    </tr>\n",
       "    <tr>\n",
       "      <th>729</th>\n",
       "      <td>730</td>\n",
       "      <td>2012-12-30</td>\n",
       "      <td>1</td>\n",
       "      <td>1</td>\n",
       "      <td>12</td>\n",
       "      <td>0</td>\n",
       "      <td>0</td>\n",
       "      <td>0</td>\n",
       "      <td>1</td>\n",
       "      <td>0.255833</td>\n",
       "      <td>0.231700</td>\n",
       "      <td>0.483333</td>\n",
       "      <td>0.350754</td>\n",
       "      <td>364</td>\n",
       "      <td>1432</td>\n",
       "      <td>1796</td>\n",
       "    </tr>\n",
       "    <tr>\n",
       "      <th>730</th>\n",
       "      <td>731</td>\n",
       "      <td>2012-12-31</td>\n",
       "      <td>1</td>\n",
       "      <td>1</td>\n",
       "      <td>12</td>\n",
       "      <td>0</td>\n",
       "      <td>1</td>\n",
       "      <td>1</td>\n",
       "      <td>2</td>\n",
       "      <td>0.215833</td>\n",
       "      <td>0.223487</td>\n",
       "      <td>0.577500</td>\n",
       "      <td>0.154846</td>\n",
       "      <td>439</td>\n",
       "      <td>2290</td>\n",
       "      <td>2729</td>\n",
       "    </tr>\n",
       "  </tbody>\n",
       "</table>\n",
       "<p>731 rows × 16 columns</p>\n",
       "</div>"
      ],
      "text/plain": [
       "     instant      dteday  season  yr  mnth  holiday  weekday  workingday  \\\n",
       "0          1  2011-01-01       1   0     1        0        6           0   \n",
       "1          2  2011-01-02       1   0     1        0        0           0   \n",
       "2          3  2011-01-03       1   0     1        0        1           1   \n",
       "3          4  2011-01-04       1   0     1        0        2           1   \n",
       "4          5  2011-01-05       1   0     1        0        3           1   \n",
       "..       ...         ...     ...  ..   ...      ...      ...         ...   \n",
       "726      727  2012-12-27       1   1    12        0        4           1   \n",
       "727      728  2012-12-28       1   1    12        0        5           1   \n",
       "728      729  2012-12-29       1   1    12        0        6           0   \n",
       "729      730  2012-12-30       1   1    12        0        0           0   \n",
       "730      731  2012-12-31       1   1    12        0        1           1   \n",
       "\n",
       "     weathersit      temp     atemp       hum  windspeed  casual  registered  \\\n",
       "0             2  0.344167  0.363625  0.805833   0.160446     331         654   \n",
       "1             2  0.363478  0.353739  0.696087   0.248539     131         670   \n",
       "2             1  0.196364  0.189405  0.437273   0.248309     120        1229   \n",
       "3             1  0.200000  0.212122  0.590435   0.160296     108        1454   \n",
       "4             1  0.226957  0.229270  0.436957   0.186900      82        1518   \n",
       "..          ...       ...       ...       ...        ...     ...         ...   \n",
       "726           2  0.254167  0.226642  0.652917   0.350133     247        1867   \n",
       "727           2  0.253333  0.255046  0.590000   0.155471     644        2451   \n",
       "728           2  0.253333  0.242400  0.752917   0.124383     159        1182   \n",
       "729           1  0.255833  0.231700  0.483333   0.350754     364        1432   \n",
       "730           2  0.215833  0.223487  0.577500   0.154846     439        2290   \n",
       "\n",
       "      cnt  \n",
       "0     985  \n",
       "1     801  \n",
       "2    1349  \n",
       "3    1562  \n",
       "4    1600  \n",
       "..    ...  \n",
       "726  2114  \n",
       "727  3095  \n",
       "728  1341  \n",
       "729  1796  \n",
       "730  2729  \n",
       "\n",
       "[731 rows x 16 columns]"
      ]
     },
     "execution_count": 54,
     "metadata": {},
     "output_type": "execute_result"
    }
   ],
   "source": [
    "df_day"
   ]
  },
  {
   "cell_type": "code",
   "execution_count": 55,
   "metadata": {
    "colab": {
     "base_uri": "https://localhost:8080/",
     "height": 423
    },
    "id": "8Cu8BM5RmNHD",
    "outputId": "f128eb70-1992-45bf-86cf-f977e49791f0"
   },
   "outputs": [
    {
     "data": {
      "text/html": [
       "<div>\n",
       "<style scoped>\n",
       "    .dataframe tbody tr th:only-of-type {\n",
       "        vertical-align: middle;\n",
       "    }\n",
       "\n",
       "    .dataframe tbody tr th {\n",
       "        vertical-align: top;\n",
       "    }\n",
       "\n",
       "    .dataframe thead th {\n",
       "        text-align: right;\n",
       "    }\n",
       "</style>\n",
       "<table border=\"1\" class=\"dataframe\">\n",
       "  <thead>\n",
       "    <tr style=\"text-align: right;\">\n",
       "      <th></th>\n",
       "      <th>instant</th>\n",
       "      <th>dteday</th>\n",
       "      <th>season</th>\n",
       "      <th>yr</th>\n",
       "      <th>mnth</th>\n",
       "      <th>hr</th>\n",
       "      <th>holiday</th>\n",
       "      <th>weekday</th>\n",
       "      <th>workingday</th>\n",
       "      <th>weathersit</th>\n",
       "      <th>temp</th>\n",
       "      <th>atemp</th>\n",
       "      <th>hum</th>\n",
       "      <th>windspeed</th>\n",
       "      <th>casual</th>\n",
       "      <th>registered</th>\n",
       "      <th>cnt</th>\n",
       "    </tr>\n",
       "  </thead>\n",
       "  <tbody>\n",
       "    <tr>\n",
       "      <th>0</th>\n",
       "      <td>1</td>\n",
       "      <td>2011-01-01</td>\n",
       "      <td>1</td>\n",
       "      <td>0</td>\n",
       "      <td>1</td>\n",
       "      <td>0</td>\n",
       "      <td>0</td>\n",
       "      <td>6</td>\n",
       "      <td>0</td>\n",
       "      <td>1</td>\n",
       "      <td>0.24</td>\n",
       "      <td>0.2879</td>\n",
       "      <td>0.81</td>\n",
       "      <td>0.0000</td>\n",
       "      <td>3</td>\n",
       "      <td>13</td>\n",
       "      <td>16</td>\n",
       "    </tr>\n",
       "    <tr>\n",
       "      <th>1</th>\n",
       "      <td>2</td>\n",
       "      <td>2011-01-01</td>\n",
       "      <td>1</td>\n",
       "      <td>0</td>\n",
       "      <td>1</td>\n",
       "      <td>1</td>\n",
       "      <td>0</td>\n",
       "      <td>6</td>\n",
       "      <td>0</td>\n",
       "      <td>1</td>\n",
       "      <td>0.22</td>\n",
       "      <td>0.2727</td>\n",
       "      <td>0.80</td>\n",
       "      <td>0.0000</td>\n",
       "      <td>8</td>\n",
       "      <td>32</td>\n",
       "      <td>40</td>\n",
       "    </tr>\n",
       "    <tr>\n",
       "      <th>2</th>\n",
       "      <td>3</td>\n",
       "      <td>2011-01-01</td>\n",
       "      <td>1</td>\n",
       "      <td>0</td>\n",
       "      <td>1</td>\n",
       "      <td>2</td>\n",
       "      <td>0</td>\n",
       "      <td>6</td>\n",
       "      <td>0</td>\n",
       "      <td>1</td>\n",
       "      <td>0.22</td>\n",
       "      <td>0.2727</td>\n",
       "      <td>0.80</td>\n",
       "      <td>0.0000</td>\n",
       "      <td>5</td>\n",
       "      <td>27</td>\n",
       "      <td>32</td>\n",
       "    </tr>\n",
       "    <tr>\n",
       "      <th>3</th>\n",
       "      <td>4</td>\n",
       "      <td>2011-01-01</td>\n",
       "      <td>1</td>\n",
       "      <td>0</td>\n",
       "      <td>1</td>\n",
       "      <td>3</td>\n",
       "      <td>0</td>\n",
       "      <td>6</td>\n",
       "      <td>0</td>\n",
       "      <td>1</td>\n",
       "      <td>0.24</td>\n",
       "      <td>0.2879</td>\n",
       "      <td>0.75</td>\n",
       "      <td>0.0000</td>\n",
       "      <td>3</td>\n",
       "      <td>10</td>\n",
       "      <td>13</td>\n",
       "    </tr>\n",
       "    <tr>\n",
       "      <th>4</th>\n",
       "      <td>5</td>\n",
       "      <td>2011-01-01</td>\n",
       "      <td>1</td>\n",
       "      <td>0</td>\n",
       "      <td>1</td>\n",
       "      <td>4</td>\n",
       "      <td>0</td>\n",
       "      <td>6</td>\n",
       "      <td>0</td>\n",
       "      <td>1</td>\n",
       "      <td>0.24</td>\n",
       "      <td>0.2879</td>\n",
       "      <td>0.75</td>\n",
       "      <td>0.0000</td>\n",
       "      <td>0</td>\n",
       "      <td>1</td>\n",
       "      <td>1</td>\n",
       "    </tr>\n",
       "    <tr>\n",
       "      <th>...</th>\n",
       "      <td>...</td>\n",
       "      <td>...</td>\n",
       "      <td>...</td>\n",
       "      <td>...</td>\n",
       "      <td>...</td>\n",
       "      <td>...</td>\n",
       "      <td>...</td>\n",
       "      <td>...</td>\n",
       "      <td>...</td>\n",
       "      <td>...</td>\n",
       "      <td>...</td>\n",
       "      <td>...</td>\n",
       "      <td>...</td>\n",
       "      <td>...</td>\n",
       "      <td>...</td>\n",
       "      <td>...</td>\n",
       "      <td>...</td>\n",
       "    </tr>\n",
       "    <tr>\n",
       "      <th>17374</th>\n",
       "      <td>17375</td>\n",
       "      <td>2012-12-31</td>\n",
       "      <td>1</td>\n",
       "      <td>1</td>\n",
       "      <td>12</td>\n",
       "      <td>19</td>\n",
       "      <td>0</td>\n",
       "      <td>1</td>\n",
       "      <td>1</td>\n",
       "      <td>2</td>\n",
       "      <td>0.26</td>\n",
       "      <td>0.2576</td>\n",
       "      <td>0.60</td>\n",
       "      <td>0.1642</td>\n",
       "      <td>11</td>\n",
       "      <td>108</td>\n",
       "      <td>119</td>\n",
       "    </tr>\n",
       "    <tr>\n",
       "      <th>17375</th>\n",
       "      <td>17376</td>\n",
       "      <td>2012-12-31</td>\n",
       "      <td>1</td>\n",
       "      <td>1</td>\n",
       "      <td>12</td>\n",
       "      <td>20</td>\n",
       "      <td>0</td>\n",
       "      <td>1</td>\n",
       "      <td>1</td>\n",
       "      <td>2</td>\n",
       "      <td>0.26</td>\n",
       "      <td>0.2576</td>\n",
       "      <td>0.60</td>\n",
       "      <td>0.1642</td>\n",
       "      <td>8</td>\n",
       "      <td>81</td>\n",
       "      <td>89</td>\n",
       "    </tr>\n",
       "    <tr>\n",
       "      <th>17376</th>\n",
       "      <td>17377</td>\n",
       "      <td>2012-12-31</td>\n",
       "      <td>1</td>\n",
       "      <td>1</td>\n",
       "      <td>12</td>\n",
       "      <td>21</td>\n",
       "      <td>0</td>\n",
       "      <td>1</td>\n",
       "      <td>1</td>\n",
       "      <td>1</td>\n",
       "      <td>0.26</td>\n",
       "      <td>0.2576</td>\n",
       "      <td>0.60</td>\n",
       "      <td>0.1642</td>\n",
       "      <td>7</td>\n",
       "      <td>83</td>\n",
       "      <td>90</td>\n",
       "    </tr>\n",
       "    <tr>\n",
       "      <th>17377</th>\n",
       "      <td>17378</td>\n",
       "      <td>2012-12-31</td>\n",
       "      <td>1</td>\n",
       "      <td>1</td>\n",
       "      <td>12</td>\n",
       "      <td>22</td>\n",
       "      <td>0</td>\n",
       "      <td>1</td>\n",
       "      <td>1</td>\n",
       "      <td>1</td>\n",
       "      <td>0.26</td>\n",
       "      <td>0.2727</td>\n",
       "      <td>0.56</td>\n",
       "      <td>0.1343</td>\n",
       "      <td>13</td>\n",
       "      <td>48</td>\n",
       "      <td>61</td>\n",
       "    </tr>\n",
       "    <tr>\n",
       "      <th>17378</th>\n",
       "      <td>17379</td>\n",
       "      <td>2012-12-31</td>\n",
       "      <td>1</td>\n",
       "      <td>1</td>\n",
       "      <td>12</td>\n",
       "      <td>23</td>\n",
       "      <td>0</td>\n",
       "      <td>1</td>\n",
       "      <td>1</td>\n",
       "      <td>1</td>\n",
       "      <td>0.26</td>\n",
       "      <td>0.2727</td>\n",
       "      <td>0.65</td>\n",
       "      <td>0.1343</td>\n",
       "      <td>12</td>\n",
       "      <td>37</td>\n",
       "      <td>49</td>\n",
       "    </tr>\n",
       "  </tbody>\n",
       "</table>\n",
       "<p>17379 rows × 17 columns</p>\n",
       "</div>"
      ],
      "text/plain": [
       "       instant      dteday  season  yr  mnth  hr  holiday  weekday  \\\n",
       "0            1  2011-01-01       1   0     1   0        0        6   \n",
       "1            2  2011-01-01       1   0     1   1        0        6   \n",
       "2            3  2011-01-01       1   0     1   2        0        6   \n",
       "3            4  2011-01-01       1   0     1   3        0        6   \n",
       "4            5  2011-01-01       1   0     1   4        0        6   \n",
       "...        ...         ...     ...  ..   ...  ..      ...      ...   \n",
       "17374    17375  2012-12-31       1   1    12  19        0        1   \n",
       "17375    17376  2012-12-31       1   1    12  20        0        1   \n",
       "17376    17377  2012-12-31       1   1    12  21        0        1   \n",
       "17377    17378  2012-12-31       1   1    12  22        0        1   \n",
       "17378    17379  2012-12-31       1   1    12  23        0        1   \n",
       "\n",
       "       workingday  weathersit  temp   atemp   hum  windspeed  casual  \\\n",
       "0               0           1  0.24  0.2879  0.81     0.0000       3   \n",
       "1               0           1  0.22  0.2727  0.80     0.0000       8   \n",
       "2               0           1  0.22  0.2727  0.80     0.0000       5   \n",
       "3               0           1  0.24  0.2879  0.75     0.0000       3   \n",
       "4               0           1  0.24  0.2879  0.75     0.0000       0   \n",
       "...           ...         ...   ...     ...   ...        ...     ...   \n",
       "17374           1           2  0.26  0.2576  0.60     0.1642      11   \n",
       "17375           1           2  0.26  0.2576  0.60     0.1642       8   \n",
       "17376           1           1  0.26  0.2576  0.60     0.1642       7   \n",
       "17377           1           1  0.26  0.2727  0.56     0.1343      13   \n",
       "17378           1           1  0.26  0.2727  0.65     0.1343      12   \n",
       "\n",
       "       registered  cnt  \n",
       "0              13   16  \n",
       "1              32   40  \n",
       "2              27   32  \n",
       "3              10   13  \n",
       "4               1    1  \n",
       "...           ...  ...  \n",
       "17374         108  119  \n",
       "17375          81   89  \n",
       "17376          83   90  \n",
       "17377          48   61  \n",
       "17378          37   49  \n",
       "\n",
       "[17379 rows x 17 columns]"
      ]
     },
     "execution_count": 55,
     "metadata": {},
     "output_type": "execute_result"
    }
   ],
   "source": [
    "df_hour"
   ]
  },
  {
   "cell_type": "markdown",
   "metadata": {
    "id": "FHSiqaZp8DC1"
   },
   "source": [
    "### Assessing Data"
   ]
  },
  {
   "cell_type": "markdown",
   "metadata": {
    "id": "ythMJqT7mkHp"
   },
   "source": [
    "### **df_day**"
   ]
  },
  {
   "cell_type": "code",
   "execution_count": 56,
   "metadata": {
    "colab": {
     "base_uri": "https://localhost:8080/"
    },
    "id": "ax-3tEjc9Cj1",
    "outputId": "88891603-e66e-4d2b-f3ee-8d01591cff9e"
   },
   "outputs": [
    {
     "name": "stdout",
     "output_type": "stream",
     "text": [
      "<class 'pandas.core.frame.DataFrame'>\n",
      "RangeIndex: 731 entries, 0 to 730\n",
      "Data columns (total 16 columns):\n",
      " #   Column      Non-Null Count  Dtype  \n",
      "---  ------      --------------  -----  \n",
      " 0   instant     731 non-null    int64  \n",
      " 1   dteday      731 non-null    object \n",
      " 2   season      731 non-null    int64  \n",
      " 3   yr          731 non-null    int64  \n",
      " 4   mnth        731 non-null    int64  \n",
      " 5   holiday     731 non-null    int64  \n",
      " 6   weekday     731 non-null    int64  \n",
      " 7   workingday  731 non-null    int64  \n",
      " 8   weathersit  731 non-null    int64  \n",
      " 9   temp        731 non-null    float64\n",
      " 10  atemp       731 non-null    float64\n",
      " 11  hum         731 non-null    float64\n",
      " 12  windspeed   731 non-null    float64\n",
      " 13  casual      731 non-null    int64  \n",
      " 14  registered  731 non-null    int64  \n",
      " 15  cnt         731 non-null    int64  \n",
      "dtypes: float64(4), int64(11), object(1)\n",
      "memory usage: 91.5+ KB\n"
     ]
    }
   ],
   "source": [
    "df_day.info()"
   ]
  },
  {
   "cell_type": "code",
   "execution_count": 57,
   "metadata": {
    "colab": {
     "base_uri": "https://localhost:8080/"
    },
    "id": "hAiieHxJoEiq",
    "outputId": "49532202-ab92-4117-ff1c-1a7b7caed1ff"
   },
   "outputs": [
    {
     "name": "stdout",
     "output_type": "stream",
     "text": [
      "Total data duplikat pada dataset day: 0\n"
     ]
    }
   ],
   "source": [
    "print(\"Total data duplikat pada dataset day:\", df_day.duplicated().sum())"
   ]
  },
  {
   "cell_type": "code",
   "execution_count": 58,
   "metadata": {
    "colab": {
     "base_uri": "https://localhost:8080/"
    },
    "id": "gvg5zggyp8_8",
    "outputId": "ed74fd30-a541-4c42-fb1d-74d2d856b02f"
   },
   "outputs": [
    {
     "name": "stdout",
     "output_type": "stream",
     "text": [
      "Jumlah Missing Value per Kolom:\n",
      "instant       0\n",
      "dteday        0\n",
      "season        0\n",
      "yr            0\n",
      "mnth          0\n",
      "holiday       0\n",
      "weekday       0\n",
      "workingday    0\n",
      "weathersit    0\n",
      "temp          0\n",
      "atemp         0\n",
      "hum           0\n",
      "windspeed     0\n",
      "casual        0\n",
      "registered    0\n",
      "cnt           0\n",
      "dtype: int64\n"
     ]
    }
   ],
   "source": [
    "# Mendeteksi missing value\n",
    "missing_values = df_day.isnull()\n",
    "\n",
    "# Menghitung jumlah missing value per kolom\n",
    "missing_count = missing_values.sum()\n",
    "\n",
    "# Menampilkan jumlah missing value per kolom\n",
    "print(\"Jumlah Missing Value per Kolom:\")\n",
    "print(missing_count)"
   ]
  },
  {
   "cell_type": "code",
   "execution_count": 59,
   "metadata": {
    "colab": {
     "base_uri": "https://localhost:8080/"
    },
    "id": "w_010DbBBVNR",
    "outputId": "968aa997-9dde-4a16-deeb-7cb3d6cf0c6d"
   },
   "outputs": [
    {
     "name": "stdout",
     "output_type": "stream",
     "text": [
      "Jumlah Outlier pada Setiap Kolom Numerik di df_day:\n",
      "{'instant': 0, 'season': 0, 'yr': 0, 'mnth': 0, 'holiday': 21, 'weekday': 0, 'workingday': 0, 'weathersit': 0, 'temp': 0, 'atemp': 0, 'hum': 2, 'windspeed': 13, 'casual': 44, 'registered': 0, 'cnt': 0}\n"
     ]
    }
   ],
   "source": [
    "# Mendeteksi dan menghitung jumlah outlier pada semua kolom numerik di df_day\n",
    "def detect_outliers(df):\n",
    "    outliers_count = {}\n",
    "\n",
    "    for column in df.select_dtypes(include=np.number).columns:\n",
    "        # Menghitung IQR (Interquartile Range)\n",
    "        Q1 = df[column].quantile(0.25)\n",
    "        Q3 = df[column].quantile(0.75)\n",
    "        IQR = Q3 - Q1\n",
    "\n",
    "        # Mendeteksi outlier\n",
    "        outliers = ((df[column] < (Q1 - 1.5 * IQR)) | (df[column] > (Q3 + 1.5 * IQR)))\n",
    "\n",
    "        # Menghitung jumlah outlier\n",
    "        outliers_count[column] = outliers.sum()\n",
    "\n",
    "    return outliers_count\n",
    "\n",
    "# Menggunakan fungsi pada df_day\n",
    "outliers_count_df_day = detect_outliers(df_day)\n",
    "\n",
    "# Menampilkan jumlah outlier untuk setiap kolom numerik di df_day\n",
    "print(\"Jumlah Outlier pada Setiap Kolom Numerik di df_day:\")\n",
    "print(outliers_count_df_day)"
   ]
  },
  {
   "cell_type": "code",
   "execution_count": 60,
   "metadata": {
    "colab": {
     "base_uri": "https://localhost:8080/",
     "height": 320
    },
    "id": "X9gd6w4Nultb",
    "outputId": "3c9df1fa-2b9b-460e-a4b1-36d7449e28f5"
   },
   "outputs": [
    {
     "data": {
      "text/html": [
       "<div>\n",
       "<style scoped>\n",
       "    .dataframe tbody tr th:only-of-type {\n",
       "        vertical-align: middle;\n",
       "    }\n",
       "\n",
       "    .dataframe tbody tr th {\n",
       "        vertical-align: top;\n",
       "    }\n",
       "\n",
       "    .dataframe thead th {\n",
       "        text-align: right;\n",
       "    }\n",
       "</style>\n",
       "<table border=\"1\" class=\"dataframe\">\n",
       "  <thead>\n",
       "    <tr style=\"text-align: right;\">\n",
       "      <th></th>\n",
       "      <th>instant</th>\n",
       "      <th>season</th>\n",
       "      <th>yr</th>\n",
       "      <th>mnth</th>\n",
       "      <th>holiday</th>\n",
       "      <th>weekday</th>\n",
       "      <th>workingday</th>\n",
       "      <th>weathersit</th>\n",
       "      <th>temp</th>\n",
       "      <th>atemp</th>\n",
       "      <th>hum</th>\n",
       "      <th>windspeed</th>\n",
       "      <th>casual</th>\n",
       "      <th>registered</th>\n",
       "      <th>cnt</th>\n",
       "    </tr>\n",
       "  </thead>\n",
       "  <tbody>\n",
       "    <tr>\n",
       "      <th>count</th>\n",
       "      <td>731.000000</td>\n",
       "      <td>731.000000</td>\n",
       "      <td>731.000000</td>\n",
       "      <td>731.000000</td>\n",
       "      <td>731.000000</td>\n",
       "      <td>731.000000</td>\n",
       "      <td>731.000000</td>\n",
       "      <td>731.000000</td>\n",
       "      <td>731.000000</td>\n",
       "      <td>731.000000</td>\n",
       "      <td>731.000000</td>\n",
       "      <td>731.000000</td>\n",
       "      <td>731.000000</td>\n",
       "      <td>731.000000</td>\n",
       "      <td>731.000000</td>\n",
       "    </tr>\n",
       "    <tr>\n",
       "      <th>mean</th>\n",
       "      <td>366.000000</td>\n",
       "      <td>2.496580</td>\n",
       "      <td>0.500684</td>\n",
       "      <td>6.519836</td>\n",
       "      <td>0.028728</td>\n",
       "      <td>2.997264</td>\n",
       "      <td>0.683995</td>\n",
       "      <td>1.395349</td>\n",
       "      <td>0.495385</td>\n",
       "      <td>0.474354</td>\n",
       "      <td>0.627894</td>\n",
       "      <td>0.190486</td>\n",
       "      <td>848.176471</td>\n",
       "      <td>3656.172367</td>\n",
       "      <td>4504.348837</td>\n",
       "    </tr>\n",
       "    <tr>\n",
       "      <th>std</th>\n",
       "      <td>211.165812</td>\n",
       "      <td>1.110807</td>\n",
       "      <td>0.500342</td>\n",
       "      <td>3.451913</td>\n",
       "      <td>0.167155</td>\n",
       "      <td>2.004787</td>\n",
       "      <td>0.465233</td>\n",
       "      <td>0.544894</td>\n",
       "      <td>0.183051</td>\n",
       "      <td>0.162961</td>\n",
       "      <td>0.142429</td>\n",
       "      <td>0.077498</td>\n",
       "      <td>686.622488</td>\n",
       "      <td>1560.256377</td>\n",
       "      <td>1937.211452</td>\n",
       "    </tr>\n",
       "    <tr>\n",
       "      <th>min</th>\n",
       "      <td>1.000000</td>\n",
       "      <td>1.000000</td>\n",
       "      <td>0.000000</td>\n",
       "      <td>1.000000</td>\n",
       "      <td>0.000000</td>\n",
       "      <td>0.000000</td>\n",
       "      <td>0.000000</td>\n",
       "      <td>1.000000</td>\n",
       "      <td>0.059130</td>\n",
       "      <td>0.079070</td>\n",
       "      <td>0.000000</td>\n",
       "      <td>0.022392</td>\n",
       "      <td>2.000000</td>\n",
       "      <td>20.000000</td>\n",
       "      <td>22.000000</td>\n",
       "    </tr>\n",
       "    <tr>\n",
       "      <th>25%</th>\n",
       "      <td>183.500000</td>\n",
       "      <td>2.000000</td>\n",
       "      <td>0.000000</td>\n",
       "      <td>4.000000</td>\n",
       "      <td>0.000000</td>\n",
       "      <td>1.000000</td>\n",
       "      <td>0.000000</td>\n",
       "      <td>1.000000</td>\n",
       "      <td>0.337083</td>\n",
       "      <td>0.337842</td>\n",
       "      <td>0.520000</td>\n",
       "      <td>0.134950</td>\n",
       "      <td>315.500000</td>\n",
       "      <td>2497.000000</td>\n",
       "      <td>3152.000000</td>\n",
       "    </tr>\n",
       "    <tr>\n",
       "      <th>50%</th>\n",
       "      <td>366.000000</td>\n",
       "      <td>3.000000</td>\n",
       "      <td>1.000000</td>\n",
       "      <td>7.000000</td>\n",
       "      <td>0.000000</td>\n",
       "      <td>3.000000</td>\n",
       "      <td>1.000000</td>\n",
       "      <td>1.000000</td>\n",
       "      <td>0.498333</td>\n",
       "      <td>0.486733</td>\n",
       "      <td>0.626667</td>\n",
       "      <td>0.180975</td>\n",
       "      <td>713.000000</td>\n",
       "      <td>3662.000000</td>\n",
       "      <td>4548.000000</td>\n",
       "    </tr>\n",
       "    <tr>\n",
       "      <th>75%</th>\n",
       "      <td>548.500000</td>\n",
       "      <td>3.000000</td>\n",
       "      <td>1.000000</td>\n",
       "      <td>10.000000</td>\n",
       "      <td>0.000000</td>\n",
       "      <td>5.000000</td>\n",
       "      <td>1.000000</td>\n",
       "      <td>2.000000</td>\n",
       "      <td>0.655417</td>\n",
       "      <td>0.608602</td>\n",
       "      <td>0.730209</td>\n",
       "      <td>0.233214</td>\n",
       "      <td>1096.000000</td>\n",
       "      <td>4776.500000</td>\n",
       "      <td>5956.000000</td>\n",
       "    </tr>\n",
       "    <tr>\n",
       "      <th>max</th>\n",
       "      <td>731.000000</td>\n",
       "      <td>4.000000</td>\n",
       "      <td>1.000000</td>\n",
       "      <td>12.000000</td>\n",
       "      <td>1.000000</td>\n",
       "      <td>6.000000</td>\n",
       "      <td>1.000000</td>\n",
       "      <td>3.000000</td>\n",
       "      <td>0.861667</td>\n",
       "      <td>0.840896</td>\n",
       "      <td>0.972500</td>\n",
       "      <td>0.507463</td>\n",
       "      <td>3410.000000</td>\n",
       "      <td>6946.000000</td>\n",
       "      <td>8714.000000</td>\n",
       "    </tr>\n",
       "  </tbody>\n",
       "</table>\n",
       "</div>"
      ],
      "text/plain": [
       "          instant      season          yr        mnth     holiday     weekday  \\\n",
       "count  731.000000  731.000000  731.000000  731.000000  731.000000  731.000000   \n",
       "mean   366.000000    2.496580    0.500684    6.519836    0.028728    2.997264   \n",
       "std    211.165812    1.110807    0.500342    3.451913    0.167155    2.004787   \n",
       "min      1.000000    1.000000    0.000000    1.000000    0.000000    0.000000   \n",
       "25%    183.500000    2.000000    0.000000    4.000000    0.000000    1.000000   \n",
       "50%    366.000000    3.000000    1.000000    7.000000    0.000000    3.000000   \n",
       "75%    548.500000    3.000000    1.000000   10.000000    0.000000    5.000000   \n",
       "max    731.000000    4.000000    1.000000   12.000000    1.000000    6.000000   \n",
       "\n",
       "       workingday  weathersit        temp       atemp         hum   windspeed  \\\n",
       "count  731.000000  731.000000  731.000000  731.000000  731.000000  731.000000   \n",
       "mean     0.683995    1.395349    0.495385    0.474354    0.627894    0.190486   \n",
       "std      0.465233    0.544894    0.183051    0.162961    0.142429    0.077498   \n",
       "min      0.000000    1.000000    0.059130    0.079070    0.000000    0.022392   \n",
       "25%      0.000000    1.000000    0.337083    0.337842    0.520000    0.134950   \n",
       "50%      1.000000    1.000000    0.498333    0.486733    0.626667    0.180975   \n",
       "75%      1.000000    2.000000    0.655417    0.608602    0.730209    0.233214   \n",
       "max      1.000000    3.000000    0.861667    0.840896    0.972500    0.507463   \n",
       "\n",
       "            casual   registered          cnt  \n",
       "count   731.000000   731.000000   731.000000  \n",
       "mean    848.176471  3656.172367  4504.348837  \n",
       "std     686.622488  1560.256377  1937.211452  \n",
       "min       2.000000    20.000000    22.000000  \n",
       "25%     315.500000  2497.000000  3152.000000  \n",
       "50%     713.000000  3662.000000  4548.000000  \n",
       "75%    1096.000000  4776.500000  5956.000000  \n",
       "max    3410.000000  6946.000000  8714.000000  "
      ]
     },
     "execution_count": 60,
     "metadata": {},
     "output_type": "execute_result"
    }
   ],
   "source": [
    "df_day.describe()"
   ]
  },
  {
   "cell_type": "markdown",
   "metadata": {
    "id": "ZEOmGsyzm0OS"
   },
   "source": [
    "### **df_hour**"
   ]
  },
  {
   "cell_type": "code",
   "execution_count": 61,
   "metadata": {
    "colab": {
     "base_uri": "https://localhost:8080/"
    },
    "id": "SILO7Co2m2lV",
    "outputId": "4afd4de2-8209-452f-8787-1f858237d618"
   },
   "outputs": [
    {
     "name": "stdout",
     "output_type": "stream",
     "text": [
      "<class 'pandas.core.frame.DataFrame'>\n",
      "RangeIndex: 17379 entries, 0 to 17378\n",
      "Data columns (total 17 columns):\n",
      " #   Column      Non-Null Count  Dtype  \n",
      "---  ------      --------------  -----  \n",
      " 0   instant     17379 non-null  int64  \n",
      " 1   dteday      17379 non-null  object \n",
      " 2   season      17379 non-null  int64  \n",
      " 3   yr          17379 non-null  int64  \n",
      " 4   mnth        17379 non-null  int64  \n",
      " 5   hr          17379 non-null  int64  \n",
      " 6   holiday     17379 non-null  int64  \n",
      " 7   weekday     17379 non-null  int64  \n",
      " 8   workingday  17379 non-null  int64  \n",
      " 9   weathersit  17379 non-null  int64  \n",
      " 10  temp        17379 non-null  float64\n",
      " 11  atemp       17379 non-null  float64\n",
      " 12  hum         17379 non-null  float64\n",
      " 13  windspeed   17379 non-null  float64\n",
      " 14  casual      17379 non-null  int64  \n",
      " 15  registered  17379 non-null  int64  \n",
      " 16  cnt         17379 non-null  int64  \n",
      "dtypes: float64(4), int64(12), object(1)\n",
      "memory usage: 2.3+ MB\n"
     ]
    }
   ],
   "source": [
    "df_hour.info()"
   ]
  },
  {
   "cell_type": "code",
   "execution_count": 62,
   "metadata": {
    "colab": {
     "base_uri": "https://localhost:8080/"
    },
    "id": "MW_qDLRTuxLh",
    "outputId": "8acd6b48-26d2-40ec-9cfe-d8b7331bd223"
   },
   "outputs": [
    {
     "name": "stdout",
     "output_type": "stream",
     "text": [
      "Total data duplikat pada dataset day: 0\n"
     ]
    }
   ],
   "source": [
    "print(\"Total data duplikat pada dataset day:\", df_hour.duplicated().sum())"
   ]
  },
  {
   "cell_type": "code",
   "execution_count": 63,
   "metadata": {
    "colab": {
     "base_uri": "https://localhost:8080/"
    },
    "id": "0kwlPCvtu3Zg",
    "outputId": "e93af8b4-6675-44bd-a3f4-1744af9e60f2"
   },
   "outputs": [
    {
     "name": "stdout",
     "output_type": "stream",
     "text": [
      "Jumlah Missing Value per Kolom:\n",
      "instant       0\n",
      "dteday        0\n",
      "season        0\n",
      "yr            0\n",
      "mnth          0\n",
      "hr            0\n",
      "holiday       0\n",
      "weekday       0\n",
      "workingday    0\n",
      "weathersit    0\n",
      "temp          0\n",
      "atemp         0\n",
      "hum           0\n",
      "windspeed     0\n",
      "casual        0\n",
      "registered    0\n",
      "cnt           0\n",
      "dtype: int64\n"
     ]
    }
   ],
   "source": [
    "# Mendeteksi missing value\n",
    "missing_values = df_hour.isnull()\n",
    "\n",
    "# Menghitung jumlah missing value per kolom\n",
    "missing_count = missing_values.sum()\n",
    "\n",
    "# Menampilkan jumlah missing value per kolom\n",
    "print(\"Jumlah Missing Value per Kolom:\")\n",
    "print(missing_count)"
   ]
  },
  {
   "cell_type": "code",
   "execution_count": 64,
   "metadata": {
    "colab": {
     "base_uri": "https://localhost:8080/"
    },
    "id": "mn5wZRtJEIvc",
    "outputId": "74dbf51e-84e1-48dc-ca1b-65a200c7ba05"
   },
   "outputs": [
    {
     "name": "stdout",
     "output_type": "stream",
     "text": [
      "Jumlah Outlier pada Setiap Kolom Numerik di df_hour:\n",
      "{'instant': 0, 'season': 0, 'yr': 0, 'mnth': 0, 'hr': 0, 'holiday': 500, 'weekday': 0, 'workingday': 0, 'weathersit': 3, 'temp': 0, 'atemp': 0, 'hum': 22, 'windspeed': 342, 'casual': 1192, 'registered': 680, 'cnt': 505}\n"
     ]
    }
   ],
   "source": [
    "# Mendeteksi dan menghitung jumlah outlier pada semua kolom numerik di df_hour\n",
    "def detect_outliers(df):\n",
    "    outliers_count = {}\n",
    "\n",
    "    for column in df.select_dtypes(include=np.number).columns:\n",
    "        # Menghitung IQR (Interquartile Range)\n",
    "        Q1 = df[column].quantile(0.25)\n",
    "        Q3 = df[column].quantile(0.75)\n",
    "        IQR = Q3 - Q1\n",
    "\n",
    "        # Mendeteksi outlier\n",
    "        outliers = ((df[column] < (Q1 - 1.5 * IQR)) | (df[column] > (Q3 + 1.5 * IQR)))\n",
    "\n",
    "        # Menghitung jumlah outlier\n",
    "        outliers_count[column] = outliers.sum()\n",
    "\n",
    "    return outliers_count\n",
    "\n",
    "# Menggunakan fungsi pada df_day\n",
    "outliers_count_df_hour = detect_outliers(df_hour)\n",
    "\n",
    "# Menampilkan jumlah outlier untuk setiap kolom numerik di df_hour\n",
    "print(\"Jumlah Outlier pada Setiap Kolom Numerik di df_hour:\")\n",
    "print(outliers_count_df_hour)"
   ]
  },
  {
   "cell_type": "code",
   "execution_count": 65,
   "metadata": {
    "colab": {
     "base_uri": "https://localhost:8080/",
     "height": 320
    },
    "id": "kxj8qj1du8I6",
    "outputId": "3b4e207c-fecc-4759-ba55-2d8169008c2a"
   },
   "outputs": [
    {
     "data": {
      "text/html": [
       "<div>\n",
       "<style scoped>\n",
       "    .dataframe tbody tr th:only-of-type {\n",
       "        vertical-align: middle;\n",
       "    }\n",
       "\n",
       "    .dataframe tbody tr th {\n",
       "        vertical-align: top;\n",
       "    }\n",
       "\n",
       "    .dataframe thead th {\n",
       "        text-align: right;\n",
       "    }\n",
       "</style>\n",
       "<table border=\"1\" class=\"dataframe\">\n",
       "  <thead>\n",
       "    <tr style=\"text-align: right;\">\n",
       "      <th></th>\n",
       "      <th>instant</th>\n",
       "      <th>season</th>\n",
       "      <th>yr</th>\n",
       "      <th>mnth</th>\n",
       "      <th>hr</th>\n",
       "      <th>holiday</th>\n",
       "      <th>weekday</th>\n",
       "      <th>workingday</th>\n",
       "      <th>weathersit</th>\n",
       "      <th>temp</th>\n",
       "      <th>atemp</th>\n",
       "      <th>hum</th>\n",
       "      <th>windspeed</th>\n",
       "      <th>casual</th>\n",
       "      <th>registered</th>\n",
       "      <th>cnt</th>\n",
       "    </tr>\n",
       "  </thead>\n",
       "  <tbody>\n",
       "    <tr>\n",
       "      <th>count</th>\n",
       "      <td>17379.0000</td>\n",
       "      <td>17379.000000</td>\n",
       "      <td>17379.000000</td>\n",
       "      <td>17379.000000</td>\n",
       "      <td>17379.000000</td>\n",
       "      <td>17379.000000</td>\n",
       "      <td>17379.000000</td>\n",
       "      <td>17379.000000</td>\n",
       "      <td>17379.000000</td>\n",
       "      <td>17379.000000</td>\n",
       "      <td>17379.000000</td>\n",
       "      <td>17379.000000</td>\n",
       "      <td>17379.000000</td>\n",
       "      <td>17379.000000</td>\n",
       "      <td>17379.000000</td>\n",
       "      <td>17379.000000</td>\n",
       "    </tr>\n",
       "    <tr>\n",
       "      <th>mean</th>\n",
       "      <td>8690.0000</td>\n",
       "      <td>2.501640</td>\n",
       "      <td>0.502561</td>\n",
       "      <td>6.537775</td>\n",
       "      <td>11.546752</td>\n",
       "      <td>0.028770</td>\n",
       "      <td>3.003683</td>\n",
       "      <td>0.682721</td>\n",
       "      <td>1.425283</td>\n",
       "      <td>0.496987</td>\n",
       "      <td>0.475775</td>\n",
       "      <td>0.627229</td>\n",
       "      <td>0.190098</td>\n",
       "      <td>35.676218</td>\n",
       "      <td>153.786869</td>\n",
       "      <td>189.463088</td>\n",
       "    </tr>\n",
       "    <tr>\n",
       "      <th>std</th>\n",
       "      <td>5017.0295</td>\n",
       "      <td>1.106918</td>\n",
       "      <td>0.500008</td>\n",
       "      <td>3.438776</td>\n",
       "      <td>6.914405</td>\n",
       "      <td>0.167165</td>\n",
       "      <td>2.005771</td>\n",
       "      <td>0.465431</td>\n",
       "      <td>0.639357</td>\n",
       "      <td>0.192556</td>\n",
       "      <td>0.171850</td>\n",
       "      <td>0.192930</td>\n",
       "      <td>0.122340</td>\n",
       "      <td>49.305030</td>\n",
       "      <td>151.357286</td>\n",
       "      <td>181.387599</td>\n",
       "    </tr>\n",
       "    <tr>\n",
       "      <th>min</th>\n",
       "      <td>1.0000</td>\n",
       "      <td>1.000000</td>\n",
       "      <td>0.000000</td>\n",
       "      <td>1.000000</td>\n",
       "      <td>0.000000</td>\n",
       "      <td>0.000000</td>\n",
       "      <td>0.000000</td>\n",
       "      <td>0.000000</td>\n",
       "      <td>1.000000</td>\n",
       "      <td>0.020000</td>\n",
       "      <td>0.000000</td>\n",
       "      <td>0.000000</td>\n",
       "      <td>0.000000</td>\n",
       "      <td>0.000000</td>\n",
       "      <td>0.000000</td>\n",
       "      <td>1.000000</td>\n",
       "    </tr>\n",
       "    <tr>\n",
       "      <th>25%</th>\n",
       "      <td>4345.5000</td>\n",
       "      <td>2.000000</td>\n",
       "      <td>0.000000</td>\n",
       "      <td>4.000000</td>\n",
       "      <td>6.000000</td>\n",
       "      <td>0.000000</td>\n",
       "      <td>1.000000</td>\n",
       "      <td>0.000000</td>\n",
       "      <td>1.000000</td>\n",
       "      <td>0.340000</td>\n",
       "      <td>0.333300</td>\n",
       "      <td>0.480000</td>\n",
       "      <td>0.104500</td>\n",
       "      <td>4.000000</td>\n",
       "      <td>34.000000</td>\n",
       "      <td>40.000000</td>\n",
       "    </tr>\n",
       "    <tr>\n",
       "      <th>50%</th>\n",
       "      <td>8690.0000</td>\n",
       "      <td>3.000000</td>\n",
       "      <td>1.000000</td>\n",
       "      <td>7.000000</td>\n",
       "      <td>12.000000</td>\n",
       "      <td>0.000000</td>\n",
       "      <td>3.000000</td>\n",
       "      <td>1.000000</td>\n",
       "      <td>1.000000</td>\n",
       "      <td>0.500000</td>\n",
       "      <td>0.484800</td>\n",
       "      <td>0.630000</td>\n",
       "      <td>0.194000</td>\n",
       "      <td>17.000000</td>\n",
       "      <td>115.000000</td>\n",
       "      <td>142.000000</td>\n",
       "    </tr>\n",
       "    <tr>\n",
       "      <th>75%</th>\n",
       "      <td>13034.5000</td>\n",
       "      <td>3.000000</td>\n",
       "      <td>1.000000</td>\n",
       "      <td>10.000000</td>\n",
       "      <td>18.000000</td>\n",
       "      <td>0.000000</td>\n",
       "      <td>5.000000</td>\n",
       "      <td>1.000000</td>\n",
       "      <td>2.000000</td>\n",
       "      <td>0.660000</td>\n",
       "      <td>0.621200</td>\n",
       "      <td>0.780000</td>\n",
       "      <td>0.253700</td>\n",
       "      <td>48.000000</td>\n",
       "      <td>220.000000</td>\n",
       "      <td>281.000000</td>\n",
       "    </tr>\n",
       "    <tr>\n",
       "      <th>max</th>\n",
       "      <td>17379.0000</td>\n",
       "      <td>4.000000</td>\n",
       "      <td>1.000000</td>\n",
       "      <td>12.000000</td>\n",
       "      <td>23.000000</td>\n",
       "      <td>1.000000</td>\n",
       "      <td>6.000000</td>\n",
       "      <td>1.000000</td>\n",
       "      <td>4.000000</td>\n",
       "      <td>1.000000</td>\n",
       "      <td>1.000000</td>\n",
       "      <td>1.000000</td>\n",
       "      <td>0.850700</td>\n",
       "      <td>367.000000</td>\n",
       "      <td>886.000000</td>\n",
       "      <td>977.000000</td>\n",
       "    </tr>\n",
       "  </tbody>\n",
       "</table>\n",
       "</div>"
      ],
      "text/plain": [
       "          instant        season            yr          mnth            hr  \\\n",
       "count  17379.0000  17379.000000  17379.000000  17379.000000  17379.000000   \n",
       "mean    8690.0000      2.501640      0.502561      6.537775     11.546752   \n",
       "std     5017.0295      1.106918      0.500008      3.438776      6.914405   \n",
       "min        1.0000      1.000000      0.000000      1.000000      0.000000   \n",
       "25%     4345.5000      2.000000      0.000000      4.000000      6.000000   \n",
       "50%     8690.0000      3.000000      1.000000      7.000000     12.000000   \n",
       "75%    13034.5000      3.000000      1.000000     10.000000     18.000000   \n",
       "max    17379.0000      4.000000      1.000000     12.000000     23.000000   \n",
       "\n",
       "            holiday       weekday    workingday    weathersit          temp  \\\n",
       "count  17379.000000  17379.000000  17379.000000  17379.000000  17379.000000   \n",
       "mean       0.028770      3.003683      0.682721      1.425283      0.496987   \n",
       "std        0.167165      2.005771      0.465431      0.639357      0.192556   \n",
       "min        0.000000      0.000000      0.000000      1.000000      0.020000   \n",
       "25%        0.000000      1.000000      0.000000      1.000000      0.340000   \n",
       "50%        0.000000      3.000000      1.000000      1.000000      0.500000   \n",
       "75%        0.000000      5.000000      1.000000      2.000000      0.660000   \n",
       "max        1.000000      6.000000      1.000000      4.000000      1.000000   \n",
       "\n",
       "              atemp           hum     windspeed        casual    registered  \\\n",
       "count  17379.000000  17379.000000  17379.000000  17379.000000  17379.000000   \n",
       "mean       0.475775      0.627229      0.190098     35.676218    153.786869   \n",
       "std        0.171850      0.192930      0.122340     49.305030    151.357286   \n",
       "min        0.000000      0.000000      0.000000      0.000000      0.000000   \n",
       "25%        0.333300      0.480000      0.104500      4.000000     34.000000   \n",
       "50%        0.484800      0.630000      0.194000     17.000000    115.000000   \n",
       "75%        0.621200      0.780000      0.253700     48.000000    220.000000   \n",
       "max        1.000000      1.000000      0.850700    367.000000    886.000000   \n",
       "\n",
       "                cnt  \n",
       "count  17379.000000  \n",
       "mean     189.463088  \n",
       "std      181.387599  \n",
       "min        1.000000  \n",
       "25%       40.000000  \n",
       "50%      142.000000  \n",
       "75%      281.000000  \n",
       "max      977.000000  "
      ]
     },
     "execution_count": 65,
     "metadata": {},
     "output_type": "execute_result"
    }
   ],
   "source": [
    "df_hour.describe()"
   ]
  },
  {
   "cell_type": "markdown",
   "metadata": {
    "id": "EhN5R4hr8DC1"
   },
   "source": [
    "### Cleaning Data"
   ]
  },
  {
   "cell_type": "markdown",
   "metadata": {
    "id": "ozpyIFop1Ifb"
   },
   "source": [
    "### **df_day**"
   ]
  },
  {
   "cell_type": "code",
   "execution_count": 66,
   "metadata": {
    "colab": {
     "base_uri": "https://localhost:8080/"
    },
    "id": "i9Eh_KsN1GlW",
    "outputId": "c9279177-964a-4484-a88d-e705a02249e8"
   },
   "outputs": [
    {
     "name": "stdout",
     "output_type": "stream",
     "text": [
      "   instant        date  season  year  month  holiday  weekday  workingday  \\\n",
      "0        1  2011-01-01       1     0      1        0        6           0   \n",
      "1        2  2011-01-02       1     0      1        0        0           0   \n",
      "2        3  2011-01-03       1     0      1        0        1           1   \n",
      "3        4  2011-01-04       1     0      1        0        2           1   \n",
      "4        5  2011-01-05       1     0      1        0        3           1   \n",
      "\n",
      "   weather_condition      temp     atemp  humidity  windspeed  unregistered  \\\n",
      "0                  2  0.344167  0.363625  0.805833   0.160446           331   \n",
      "1                  2  0.363478  0.353739  0.696087   0.248539           131   \n",
      "2                  1  0.196364  0.189405  0.437273   0.248309           120   \n",
      "3                  1  0.200000  0.212122  0.590435   0.160296           108   \n",
      "4                  1  0.226957  0.229270  0.436957   0.186900            82   \n",
      "\n",
      "   registered  count  \n",
      "0         654    985  \n",
      "1         670    801  \n",
      "2        1229   1349  \n",
      "3        1454   1562  \n",
      "4        1518   1600  \n"
     ]
    }
   ],
   "source": [
    "# Mapping nama-nama kolom yang akan diganti\n",
    "nama_kolom_mapping = {\n",
    "    \"dteday\": \"date\",\n",
    "    \"yr\": \"year\",\n",
    "    \"mnth\": \"month\",\n",
    "    \"weathersit\": \"weather_condition\",\n",
    "    \"hum\": \"humidity\",\n",
    "    \"casual\": \"unregistered\",\n",
    "    \"cnt\": \"count\"\n",
    "}\n",
    "\n",
    "# Mengganti nama kolom\n",
    "df_day.rename(columns=nama_kolom_mapping, inplace=True)\n",
    "\n",
    "# Menampilkan dataset setelah nama kolom diganti\n",
    "print(df_day.head())"
   ]
  },
  {
   "cell_type": "code",
   "execution_count": 67,
   "metadata": {
    "colab": {
     "base_uri": "https://localhost:8080/"
    },
    "id": "jVnYpprE9Evz",
    "outputId": "4612d88e-6ee5-4dc6-e0ac-e5e2314e1e3f"
   },
   "outputs": [
    {
     "name": "stdout",
     "output_type": "stream",
     "text": [
      "   instant        date  season  year  month  holiday  weekday  workingday  \\\n",
      "0        1  2011-01-01       1     0      1        0        6           0   \n",
      "1        2  2011-01-02       1     0      1        0        0           0   \n",
      "2        3  2011-01-03       1     0      1        0        1           1   \n",
      "3        4  2011-01-04       1     0      1        0        2           1   \n",
      "4        5  2011-01-05       1     0      1        0        3           1   \n",
      "\n",
      "   weather_condition      temp     atemp  humidity  windspeed  unregistered  \\\n",
      "0                  2  0.344167  0.363625  0.805833   0.160446           331   \n",
      "1                  2  0.363478  0.353739  0.696087   0.248539           131   \n",
      "2                  1  0.196364  0.189405  0.437273   0.248309           120   \n",
      "3                  1  0.200000  0.212122  0.590435   0.160296           108   \n",
      "4                  1  0.226957  0.229270  0.436957   0.186900            82   \n",
      "\n",
      "   registered  count  \n",
      "0         654    985  \n",
      "1         670    801  \n",
      "2        1229   1349  \n",
      "3        1454   1562  \n",
      "4        1518   1600  \n"
     ]
    }
   ],
   "source": [
    "# Mengganti nilai 2011 dengan 0 dan nilai 2012 dengan 1 pada kolom 'year'\n",
    "df_day['year'].replace({2011: 0, 2012: 1}, inplace=True)\n",
    "\n",
    "# Mengganti nilai 'springer' dengan 1, 'summer' dengan 2, 'fall' dengan 3, dan 'winter' dengan 4 pada kolom 'season'\n",
    "df_day['season'].replace({'springer': 1, 'summer': 2, 'fall': 3, 'winter': 4}, inplace=True)\n",
    "\n",
    "# Mengganti nilai 'Clear' dengan 1, 'Mist' dengan 2, 'Light Rain/Snow' dengan 3, dan 'Heavy Rain/Snow' dengan 4 pada kolom 'weather_condition'\n",
    "df_day['weather_condition'].replace({'Clear': 1, 'Mist': 2, 'Light Rain/Snow': 3, 'Heavy Rain/Snow': 4}, inplace=True)\n",
    "\n",
    "# Menampilkan dataframe setelah perubahan nilai\n",
    "print(df_day.head())"
   ]
  },
  {
   "cell_type": "code",
   "execution_count": 68,
   "metadata": {
    "colab": {
     "base_uri": "https://localhost:8080/"
    },
    "id": "LX8zTEUV7U01",
    "outputId": "b423eaa2-61a3-409f-c036-d4114c36c538"
   },
   "outputs": [
    {
     "name": "stdout",
     "output_type": "stream",
     "text": [
      "Tipe data kolom season telah diubah menjadi tipe data kategori.\n",
      "Tipe data kolom year telah diubah menjadi tipe data kategori.\n",
      "Tipe data kolom month telah diubah menjadi tipe data kategori.\n",
      "Tipe data kolom holiday telah diubah menjadi tipe data kategori.\n",
      "Tipe data kolom weekday telah diubah menjadi tipe data kategori.\n",
      "Tipe data kolom workingday telah diubah menjadi tipe data kategori.\n",
      "Tipe data kolom weather_condition telah diubah menjadi tipe data kategori.\n"
     ]
    }
   ],
   "source": [
    "# kolom-kolom yang akan diubah tipe datanya menjadi kategori\n",
    "selected_columns = ['season', 'year', 'month', 'holiday', 'weekday', 'workingday', 'weather_condition']\n",
    "\n",
    "# Melakukan perulangan untuk setiap kolom dalam daftar\n",
    "for col in selected_columns:\n",
    "    # Mengubah tipe data kolom menjadi kategori\n",
    "    df_day[col] = df_day[col].astype('category')\n",
    "    # Menambahkan pesan untuk memberi penjelasan bahwa tipe data kolom telah diubah\n",
    "    print(f\"Tipe data kolom {col} telah diubah menjadi tipe data kategori.\")"
   ]
  },
  {
   "cell_type": "markdown",
   "metadata": {
    "id": "f8R7P3R01FsA"
   },
   "source": [
    "### **df_hour**"
   ]
  },
  {
   "cell_type": "code",
   "execution_count": 69,
   "metadata": {
    "colab": {
     "base_uri": "https://localhost:8080/"
    },
    "id": "7DhYWIpO1QqF",
    "outputId": "6ca3d22c-b514-4cc1-d895-f01a44421b6c"
   },
   "outputs": [
    {
     "name": "stdout",
     "output_type": "stream",
     "text": [
      "   instant        date season year month holiday weekday workingday  \\\n",
      "0        1  2011-01-01      1    0     1       0       6          0   \n",
      "1        2  2011-01-02      1    0     1       0       0          0   \n",
      "2        3  2011-01-03      1    0     1       0       1          1   \n",
      "3        4  2011-01-04      1    0     1       0       2          1   \n",
      "4        5  2011-01-05      1    0     1       0       3          1   \n",
      "\n",
      "  weather_condition      temp     atemp  humidity  windspeed  unregistered  \\\n",
      "0                 2  0.344167  0.363625  0.805833   0.160446           331   \n",
      "1                 2  0.363478  0.353739  0.696087   0.248539           131   \n",
      "2                 1  0.196364  0.189405  0.437273   0.248309           120   \n",
      "3                 1  0.200000  0.212122  0.590435   0.160296           108   \n",
      "4                 1  0.226957  0.229270  0.436957   0.186900            82   \n",
      "\n",
      "   registered  count  \n",
      "0         654    985  \n",
      "1         670    801  \n",
      "2        1229   1349  \n",
      "3        1454   1562  \n",
      "4        1518   1600  \n"
     ]
    }
   ],
   "source": [
    "# Mapping nama-nama kolom yang akan diganti\n",
    "nama_kolom_mapping = {\n",
    "    \"dteday\": \"date\",\n",
    "    \"yr\": \"year\",\n",
    "    \"hr\":\"hour\",\n",
    "    \"weathersit\": \"weather_condition\",\n",
    "    \"hum\": \"humidity\",\n",
    "    \"casual\": \"unregistered\",\n",
    "    \"cnt\": \"count\"\n",
    "}\n",
    "\n",
    "# Mengganti nama kolom\n",
    "df_hour.rename(columns=nama_kolom_mapping, inplace=True)\n",
    "\n",
    "# Menampilkan dataset setelah nama kolom diganti\n",
    "print(df_day.head())"
   ]
  },
  {
   "cell_type": "code",
   "execution_count": 70,
   "metadata": {
    "id": "OAA8gcc7-E1P"
   },
   "outputs": [],
   "source": [
    "# Daftar kolom yang akan diubah nilai pada dataframe df_hour\n",
    "columns_to_replace = ['year', 'season', 'weather_condition']\n",
    "\n",
    "# Mengganti nilai 0 dengan 2011 dan nilai 1 dengan 2012 pada kolom 'year'\n",
    "df_hour['year'].replace({0: 2011, 1: 2012}, inplace=True)\n",
    "\n",
    "# Mengganti nilai 1 dengan 'springer', 2 dengan 'summer', 3 dengan 'fall', dan 4 dengan 'winter' pada kolom 'season'\n",
    "df_hour['season'].replace({1: 'springer', 2: 'summer', 3: 'fall', 4: 'winter'}, inplace=True)\n",
    "\n",
    "# Mengganti nilai 1 dengan 'Clear', 2 dengan 'Mist', 3 dengan 'Light Rain/Snow', dan 4 dengan 'Heavy Rain/Snow' pada kolom 'weather_condition'\n",
    "df_hour['weather_condition'].replace({1: 'Clear', 2: 'Mist', 3: 'Light Rain/Snow', 4: 'Heavy Rain/Snow'}, inplace=True)"
   ]
  },
  {
   "cell_type": "code",
   "execution_count": 71,
   "metadata": {
    "colab": {
     "base_uri": "https://localhost:8080/"
    },
    "id": "VdKxZJCL-bWS",
    "outputId": "4e8ef954-b617-490a-8727-47a2adf0faf7"
   },
   "outputs": [
    {
     "name": "stdout",
     "output_type": "stream",
     "text": [
      "Kolom season berhasil diubah menjadi tipe data kategori.\n",
      "Kolom year berhasil diubah menjadi tipe data kategori.\n",
      "Kolom holiday berhasil diubah menjadi tipe data kategori.\n",
      "Kolom weekday berhasil diubah menjadi tipe data kategori.\n",
      "Kolom workingday berhasil diubah menjadi tipe data kategori.\n",
      "Kolom weather_condition berhasil diubah menjadi tipe data kategori.\n"
     ]
    }
   ],
   "source": [
    "# Daftar kolom untuk pengubahan tipe data menjadi kategori\n",
    "selected_columns = ['season', 'year', 'holiday', 'weekday', 'workingday', 'weather_condition']\n",
    "\n",
    "# Mengubah tipe data kolom menjadi kategori dengan perulangan\n",
    "for selected_col in selected_columns:\n",
    "    # Mengubah tipe data kolom menjadi kategori\n",
    "    df_hour[selected_col] = df_hour[selected_col].astype('category')\n",
    "    # Menampilkan pesan bahwa tipe data kolom telah diubah\n",
    "    print(f\"Kolom {selected_col} berhasil diubah menjadi tipe data kategori.\")"
   ]
  },
  {
   "cell_type": "code",
   "execution_count": 72,
   "metadata": {
    "colab": {
     "base_uri": "https://localhost:8080/"
    },
    "id": "t2pJSIut-zxO",
    "outputId": "640bd4c9-15e6-4cd3-e218-301400a4c4de"
   },
   "outputs": [
    {
     "name": "stdout",
     "output_type": "stream",
     "text": [
      "Kolom 'date' pada df_day telah diubah menjadi tipe data datetime.\n",
      "Kolom 'date' pada hours_df telah diubah menjadi tipe data datetime.\n"
     ]
    }
   ],
   "source": [
    "# Mengubah kolom 'date' menjadi tipe data datetime pada df_day\n",
    "df_day['date'] = pd.to_datetime(df_day['date'])\n",
    "# Menambahkan pesan bahwa kolom 'date' telah diubah menjadi tipe data datetime\n",
    "print(\"Kolom 'date' pada df_day telah diubah menjadi tipe data datetime.\")\n",
    "\n",
    "# Mengubah kolom 'date' menjadi tipe data datetime pada df_hour\n",
    "df_hour['date'] = pd.to_datetime(df_hour['date'])\n",
    "# Menambahkan pesan bahwa kolom 'date' telah diubah menjadi tipe data datetime\n",
    "print(\"Kolom 'date' pada hours_df telah diubah menjadi tipe data datetime.\")"
   ]
  },
  {
   "cell_type": "code",
   "execution_count": 73,
   "metadata": {
    "colab": {
     "base_uri": "https://localhost:8080/"
    },
    "id": "MKqQIpGj_coN",
    "outputId": "50c0dc4a-365a-44b3-c840-ce2eb482e6c8"
   },
   "outputs": [
    {
     "name": "stdout",
     "output_type": "stream",
     "text": [
      "Informasi setelah perubahan tipe data kolom 'date' pada df_day:\n",
      "\n",
      "<class 'pandas.core.series.Series'>\n",
      "RangeIndex: 731 entries, 0 to 730\n",
      "Series name: date\n",
      "Non-Null Count  Dtype         \n",
      "--------------  -----         \n",
      "731 non-null    datetime64[ns]\n",
      "dtypes: datetime64[ns](1)\n",
      "memory usage: 5.8 KB\n"
     ]
    }
   ],
   "source": [
    "# Menampilkan informasi untuk kolom 'date' setelah diubah tipe datanya di df_day\n",
    "print(\"Informasi setelah perubahan tipe data kolom 'date' pada df_day:\\n\")\n",
    "df_day[\"date\"].info()"
   ]
  },
  {
   "cell_type": "code",
   "execution_count": 74,
   "metadata": {
    "colab": {
     "base_uri": "https://localhost:8080/"
    },
    "id": "kYc0xiJ9_vF-",
    "outputId": "8a492d6a-a7f5-4bac-cec8-12f4dc9a7eb1"
   },
   "outputs": [
    {
     "name": "stdout",
     "output_type": "stream",
     "text": [
      "Informasi setelah perubahan tipe data kolom 'date' pada df_hour:\n",
      "\n",
      "<class 'pandas.core.series.Series'>\n",
      "RangeIndex: 17379 entries, 0 to 17378\n",
      "Series name: date\n",
      "Non-Null Count  Dtype         \n",
      "--------------  -----         \n",
      "17379 non-null  datetime64[ns]\n",
      "dtypes: datetime64[ns](1)\n",
      "memory usage: 135.9 KB\n"
     ]
    }
   ],
   "source": [
    "# Menampilkan informasi untuk kolom 'date' setelah diubah tipe datanya di df_hour\n",
    "print(\"Informasi setelah perubahan tipe data kolom 'date' pada df_hour:\\n\")\n",
    "df_hour[\"date\"].info()"
   ]
  },
  {
   "cell_type": "markdown",
   "metadata": {
    "id": "gp-Y6wU38DC1"
   },
   "source": [
    "## Exploratory Data Analysis (EDA)"
   ]
  },
  {
   "cell_type": "markdown",
   "metadata": {
    "id": "MW7WF2kr8DC1"
   },
   "source": [
    "### Explore df_day"
   ]
  },
  {
   "cell_type": "code",
   "execution_count": 75,
   "metadata": {
    "colab": {
     "base_uri": "https://localhost:8080/",
     "height": 143
    },
    "id": "e9CQCZjk8DC2",
    "outputId": "b7d8cad1-8736-4f9b-ded5-4f4af68243c0"
   },
   "outputs": [
    {
     "data": {
      "text/html": [
       "<div>\n",
       "<style scoped>\n",
       "    .dataframe tbody tr th:only-of-type {\n",
       "        vertical-align: middle;\n",
       "    }\n",
       "\n",
       "    .dataframe tbody tr th {\n",
       "        vertical-align: top;\n",
       "    }\n",
       "\n",
       "    .dataframe thead th {\n",
       "        text-align: right;\n",
       "    }\n",
       "</style>\n",
       "<table border=\"1\" class=\"dataframe\">\n",
       "  <thead>\n",
       "    <tr style=\"text-align: right;\">\n",
       "      <th></th>\n",
       "      <th>count</th>\n",
       "      <th>unregistered</th>\n",
       "      <th>registered</th>\n",
       "    </tr>\n",
       "    <tr>\n",
       "      <th>year</th>\n",
       "      <th></th>\n",
       "      <th></th>\n",
       "      <th></th>\n",
       "    </tr>\n",
       "  </thead>\n",
       "  <tbody>\n",
       "    <tr>\n",
       "      <th>0</th>\n",
       "      <td>1243103</td>\n",
       "      <td>247252</td>\n",
       "      <td>995851</td>\n",
       "    </tr>\n",
       "    <tr>\n",
       "      <th>1</th>\n",
       "      <td>2049576</td>\n",
       "      <td>372765</td>\n",
       "      <td>1676811</td>\n",
       "    </tr>\n",
       "  </tbody>\n",
       "</table>\n",
       "</div>"
      ],
      "text/plain": [
       "        count  unregistered  registered\n",
       "year                                   \n",
       "0     1243103        247252      995851\n",
       "1     2049576        372765     1676811"
      ]
     },
     "execution_count": 75,
     "metadata": {},
     "output_type": "execute_result"
    }
   ],
   "source": [
    "# Mengelompokkan berdasarkan tahun dan menghitung jumlah total\n",
    "yearly_summary = df_day.groupby(by=\"year\").agg({\n",
    "    \"count\": \"sum\",\n",
    "    \"unregistered\": \"sum\",\n",
    "    \"registered\": \"sum\"\n",
    "})\n",
    "yearly_summary"
   ]
  },
  {
   "cell_type": "markdown",
   "metadata": {
    "id": "qh-wc_VjD2uZ"
   },
   "source": [
    "0 menunjukkan tahun 2011 dan 1 menunjukkan tahun 2012"
   ]
  },
  {
   "cell_type": "code",
   "execution_count": 76,
   "metadata": {
    "colab": {
     "base_uri": "https://localhost:8080/",
     "height": 206
    },
    "id": "Z9ltauhbDEQj",
    "outputId": "b2623d6a-f571-416e-c77a-e1bcd07b687c"
   },
   "outputs": [
    {
     "data": {
      "text/html": [
       "<div>\n",
       "<style scoped>\n",
       "    .dataframe tbody tr th:only-of-type {\n",
       "        vertical-align: middle;\n",
       "    }\n",
       "\n",
       "    .dataframe tbody tr th {\n",
       "        vertical-align: top;\n",
       "    }\n",
       "\n",
       "    .dataframe thead th {\n",
       "        text-align: right;\n",
       "    }\n",
       "</style>\n",
       "<table border=\"1\" class=\"dataframe\">\n",
       "  <thead>\n",
       "    <tr style=\"text-align: right;\">\n",
       "      <th></th>\n",
       "      <th>count</th>\n",
       "      <th>unregistered</th>\n",
       "      <th>registered</th>\n",
       "    </tr>\n",
       "    <tr>\n",
       "      <th>season</th>\n",
       "      <th></th>\n",
       "      <th></th>\n",
       "      <th></th>\n",
       "    </tr>\n",
       "  </thead>\n",
       "  <tbody>\n",
       "    <tr>\n",
       "      <th>3</th>\n",
       "      <td>1061129</td>\n",
       "      <td>226091</td>\n",
       "      <td>835038</td>\n",
       "    </tr>\n",
       "    <tr>\n",
       "      <th>2</th>\n",
       "      <td>918589</td>\n",
       "      <td>203522</td>\n",
       "      <td>715067</td>\n",
       "    </tr>\n",
       "    <tr>\n",
       "      <th>4</th>\n",
       "      <td>841613</td>\n",
       "      <td>129782</td>\n",
       "      <td>711831</td>\n",
       "    </tr>\n",
       "    <tr>\n",
       "      <th>1</th>\n",
       "      <td>471348</td>\n",
       "      <td>60622</td>\n",
       "      <td>410726</td>\n",
       "    </tr>\n",
       "  </tbody>\n",
       "</table>\n",
       "</div>"
      ],
      "text/plain": [
       "          count  unregistered  registered\n",
       "season                                   \n",
       "3       1061129        226091      835038\n",
       "2        918589        203522      715067\n",
       "4        841613        129782      711831\n",
       "1        471348         60622      410726"
      ]
     },
     "execution_count": 76,
     "metadata": {},
     "output_type": "execute_result"
    }
   ],
   "source": [
    "# Mengelompokkan berdasarkan musim dan menghitung jumlah total, kemudian diurutkan\n",
    "seasonal_summary = df_day.groupby(by=\"season\").agg({\n",
    "    \"count\": \"sum\",\n",
    "    \"unregistered\": \"sum\",\n",
    "    \"registered\": \"sum\"\n",
    "}).sort_values(by=\"count\", ascending=False)\n",
    "seasonal_summary"
   ]
  },
  {
   "cell_type": "markdown",
   "metadata": {
    "id": "30Wt5hvAEEKC"
   },
   "source": [
    "\n",
    "\n",
    "*   season 1 = musim springer\n",
    "*   season 2 = musim summer\n",
    "*   season 3 = musim fall\n",
    "*   season 4 = winter\n",
    "\n",
    "\n",
    "\n"
   ]
  },
  {
   "cell_type": "code",
   "execution_count": 77,
   "metadata": {
    "colab": {
     "base_uri": "https://localhost:8080/",
     "height": 174
    },
    "id": "9XTnhs7YDuo0",
    "outputId": "3cfb3d7f-f28c-48b2-aa35-3b9e2723916c"
   },
   "outputs": [
    {
     "data": {
      "text/html": [
       "<div>\n",
       "<style scoped>\n",
       "    .dataframe tbody tr th:only-of-type {\n",
       "        vertical-align: middle;\n",
       "    }\n",
       "\n",
       "    .dataframe tbody tr th {\n",
       "        vertical-align: top;\n",
       "    }\n",
       "\n",
       "    .dataframe thead th {\n",
       "        text-align: right;\n",
       "    }\n",
       "</style>\n",
       "<table border=\"1\" class=\"dataframe\">\n",
       "  <thead>\n",
       "    <tr style=\"text-align: right;\">\n",
       "      <th></th>\n",
       "      <th>count</th>\n",
       "      <th>unregistered</th>\n",
       "      <th>registered</th>\n",
       "    </tr>\n",
       "    <tr>\n",
       "      <th>weather_condition</th>\n",
       "      <th></th>\n",
       "      <th></th>\n",
       "      <th></th>\n",
       "    </tr>\n",
       "  </thead>\n",
       "  <tbody>\n",
       "    <tr>\n",
       "      <th>1</th>\n",
       "      <td>2257952</td>\n",
       "      <td>446346</td>\n",
       "      <td>1811606</td>\n",
       "    </tr>\n",
       "    <tr>\n",
       "      <th>2</th>\n",
       "      <td>996858</td>\n",
       "      <td>169776</td>\n",
       "      <td>827082</td>\n",
       "    </tr>\n",
       "    <tr>\n",
       "      <th>3</th>\n",
       "      <td>37869</td>\n",
       "      <td>3895</td>\n",
       "      <td>33974</td>\n",
       "    </tr>\n",
       "  </tbody>\n",
       "</table>\n",
       "</div>"
      ],
      "text/plain": [
       "                     count  unregistered  registered\n",
       "weather_condition                                   \n",
       "1                  2257952        446346     1811606\n",
       "2                   996858        169776      827082\n",
       "3                    37869          3895       33974"
      ]
     },
     "execution_count": 77,
     "metadata": {},
     "output_type": "execute_result"
    }
   ],
   "source": [
    "# Mengelompokkan berdasarkan kondisi cuaca dan menghitung jumlah total, kemudian diurutkan\n",
    "weather_summary = df_day.groupby(by=\"weather_condition\").agg({\n",
    "    \"count\": \"sum\",\n",
    "    \"unregistered\": \"sum\",\n",
    "    \"registered\": \"sum\"\n",
    "}).sort_values(by=\"count\", ascending=False)\n",
    "weather_summary"
   ]
  },
  {
   "cell_type": "markdown",
   "metadata": {
    "id": "zG97J1m-E2JJ"
   },
   "source": [
    "*   weather_condition 1 = cuaca clear\n",
    "*   weather_condition 2 = cuaca mist\n",
    "*   weather_condition 3 = cuaca light rain/snow"
   ]
  },
  {
   "cell_type": "code",
   "execution_count": 78,
   "metadata": {
    "colab": {
     "base_uri": "https://localhost:8080/",
     "height": 300
    },
    "id": "O5p-9SB6EvzP",
    "outputId": "3cb805a4-27b9-4f74-d72c-5d01d919b4dc"
   },
   "outputs": [
    {
     "data": {
      "text/html": [
       "<div>\n",
       "<style scoped>\n",
       "    .dataframe tbody tr th:only-of-type {\n",
       "        vertical-align: middle;\n",
       "    }\n",
       "\n",
       "    .dataframe tbody tr th {\n",
       "        vertical-align: top;\n",
       "    }\n",
       "\n",
       "    .dataframe thead th {\n",
       "        text-align: right;\n",
       "    }\n",
       "</style>\n",
       "<table border=\"1\" class=\"dataframe\">\n",
       "  <thead>\n",
       "    <tr style=\"text-align: right;\">\n",
       "      <th></th>\n",
       "      <th>count</th>\n",
       "      <th>unregistered</th>\n",
       "      <th>registered</th>\n",
       "    </tr>\n",
       "    <tr>\n",
       "      <th>weekday</th>\n",
       "      <th></th>\n",
       "      <th></th>\n",
       "      <th></th>\n",
       "    </tr>\n",
       "  </thead>\n",
       "  <tbody>\n",
       "    <tr>\n",
       "      <th>5</th>\n",
       "      <td>487790</td>\n",
       "      <td>78238</td>\n",
       "      <td>409552</td>\n",
       "    </tr>\n",
       "    <tr>\n",
       "      <th>4</th>\n",
       "      <td>485395</td>\n",
       "      <td>61460</td>\n",
       "      <td>423935</td>\n",
       "    </tr>\n",
       "    <tr>\n",
       "      <th>6</th>\n",
       "      <td>477807</td>\n",
       "      <td>153852</td>\n",
       "      <td>323955</td>\n",
       "    </tr>\n",
       "    <tr>\n",
       "      <th>3</th>\n",
       "      <td>473048</td>\n",
       "      <td>57319</td>\n",
       "      <td>415729</td>\n",
       "    </tr>\n",
       "    <tr>\n",
       "      <th>2</th>\n",
       "      <td>469109</td>\n",
       "      <td>57843</td>\n",
       "      <td>411266</td>\n",
       "    </tr>\n",
       "    <tr>\n",
       "      <th>1</th>\n",
       "      <td>455503</td>\n",
       "      <td>70784</td>\n",
       "      <td>384719</td>\n",
       "    </tr>\n",
       "    <tr>\n",
       "      <th>0</th>\n",
       "      <td>444027</td>\n",
       "      <td>140521</td>\n",
       "      <td>303506</td>\n",
       "    </tr>\n",
       "  </tbody>\n",
       "</table>\n",
       "</div>"
      ],
      "text/plain": [
       "          count  unregistered  registered\n",
       "weekday                                  \n",
       "5        487790         78238      409552\n",
       "4        485395         61460      423935\n",
       "6        477807        153852      323955\n",
       "3        473048         57319      415729\n",
       "2        469109         57843      411266\n",
       "1        455503         70784      384719\n",
       "0        444027        140521      303506"
      ]
     },
     "execution_count": 78,
     "metadata": {},
     "output_type": "execute_result"
    }
   ],
   "source": [
    "# Mengelompokkan berdasarkan hari dan menghitung jumlah total, kemudian diurutkan\n",
    "weekday_summary = df_day.groupby(by=\"weekday\").agg({\n",
    "    \"count\": \"sum\",\n",
    "    \"unregistered\": \"sum\",\n",
    "    \"registered\": \"sum\"\n",
    "}).sort_values(by=\"count\", ascending=False)\n",
    "weekday_summary"
   ]
  },
  {
   "cell_type": "code",
   "execution_count": 79,
   "metadata": {
    "colab": {
     "base_uri": "https://localhost:8080/",
     "height": 143
    },
    "id": "FuKlOQMiFlys",
    "outputId": "dcb910f4-ca3b-46c3-9851-177680d4031e"
   },
   "outputs": [
    {
     "data": {
      "text/html": [
       "<div>\n",
       "<style scoped>\n",
       "    .dataframe tbody tr th:only-of-type {\n",
       "        vertical-align: middle;\n",
       "    }\n",
       "\n",
       "    .dataframe tbody tr th {\n",
       "        vertical-align: top;\n",
       "    }\n",
       "\n",
       "    .dataframe thead th {\n",
       "        text-align: right;\n",
       "    }\n",
       "</style>\n",
       "<table border=\"1\" class=\"dataframe\">\n",
       "  <thead>\n",
       "    <tr style=\"text-align: right;\">\n",
       "      <th></th>\n",
       "      <th>unregistered</th>\n",
       "      <th>registered</th>\n",
       "      <th>count</th>\n",
       "    </tr>\n",
       "    <tr>\n",
       "      <th>workingday</th>\n",
       "      <th></th>\n",
       "      <th></th>\n",
       "      <th></th>\n",
       "    </tr>\n",
       "  </thead>\n",
       "  <tbody>\n",
       "    <tr>\n",
       "      <th>1</th>\n",
       "      <td>303285</td>\n",
       "      <td>1989125</td>\n",
       "      <td>2292410</td>\n",
       "    </tr>\n",
       "    <tr>\n",
       "      <th>0</th>\n",
       "      <td>316732</td>\n",
       "      <td>683537</td>\n",
       "      <td>1000269</td>\n",
       "    </tr>\n",
       "  </tbody>\n",
       "</table>\n",
       "</div>"
      ],
      "text/plain": [
       "            unregistered  registered    count\n",
       "workingday                                   \n",
       "1                 303285     1989125  2292410\n",
       "0                 316732      683537  1000269"
      ]
     },
     "execution_count": 79,
     "metadata": {},
     "output_type": "execute_result"
    }
   ],
   "source": [
    "# Mengelompokkan berdasarkan hari kerja dan menghitung jumlah total, kemudian diurutkan\n",
    "workingday_summary = df_day.groupby(by=\"workingday\").agg({\n",
    "    \"unregistered\": \"sum\",\n",
    "    \"registered\": \"sum\",\n",
    "    \"count\": \"sum\"\n",
    "}).sort_values(by=\"count\", ascending=False)\n",
    "workingday_summary"
   ]
  },
  {
   "cell_type": "code",
   "execution_count": 80,
   "metadata": {
    "colab": {
     "base_uri": "https://localhost:8080/",
     "height": 143
    },
    "id": "GejbTZzpGE9j",
    "outputId": "5730c4df-2b65-4d23-8788-e9778542812b"
   },
   "outputs": [
    {
     "data": {
      "text/html": [
       "<div>\n",
       "<style scoped>\n",
       "    .dataframe tbody tr th:only-of-type {\n",
       "        vertical-align: middle;\n",
       "    }\n",
       "\n",
       "    .dataframe tbody tr th {\n",
       "        vertical-align: top;\n",
       "    }\n",
       "\n",
       "    .dataframe thead th {\n",
       "        text-align: right;\n",
       "    }\n",
       "</style>\n",
       "<table border=\"1\" class=\"dataframe\">\n",
       "  <thead>\n",
       "    <tr style=\"text-align: right;\">\n",
       "      <th></th>\n",
       "      <th>unregistered</th>\n",
       "      <th>registered</th>\n",
       "      <th>count</th>\n",
       "    </tr>\n",
       "    <tr>\n",
       "      <th>holiday</th>\n",
       "      <th></th>\n",
       "      <th></th>\n",
       "      <th></th>\n",
       "    </tr>\n",
       "  </thead>\n",
       "  <tbody>\n",
       "    <tr>\n",
       "      <th>0</th>\n",
       "      <td>597658</td>\n",
       "      <td>2616586</td>\n",
       "      <td>3214244</td>\n",
       "    </tr>\n",
       "    <tr>\n",
       "      <th>1</th>\n",
       "      <td>22359</td>\n",
       "      <td>56076</td>\n",
       "      <td>78435</td>\n",
       "    </tr>\n",
       "  </tbody>\n",
       "</table>\n",
       "</div>"
      ],
      "text/plain": [
       "         unregistered  registered    count\n",
       "holiday                                   \n",
       "0              597658     2616586  3214244\n",
       "1               22359       56076    78435"
      ]
     },
     "execution_count": 80,
     "metadata": {},
     "output_type": "execute_result"
    }
   ],
   "source": [
    "# Mengelompokkan berdasarkan hari libur dan menghitung jumlah total, kemudian diurutkan\n",
    "holiday_summary = df_day.groupby(by=\"holiday\").agg({\n",
    "    \"unregistered\": \"sum\",\n",
    "    \"registered\": \"sum\",\n",
    "    \"count\": \"sum\"\n",
    "}).sort_values(by=\"count\", ascending=False)\n",
    "holiday_summary"
   ]
  },
  {
   "cell_type": "markdown",
   "metadata": {
    "id": "atpTSuWKAA9R"
   },
   "source": [
    "### Explore df_hour"
   ]
  },
  {
   "cell_type": "code",
   "execution_count": 81,
   "metadata": {
    "colab": {
     "base_uri": "https://localhost:8080/",
     "height": 206
    },
    "id": "k76f0mnbAC8K",
    "outputId": "4bedb67f-86cd-44ba-ebe5-a34c42f1a6cc"
   },
   "outputs": [
    {
     "data": {
      "text/html": [
       "<div>\n",
       "<style scoped>\n",
       "    .dataframe tbody tr th:only-of-type {\n",
       "        vertical-align: middle;\n",
       "    }\n",
       "\n",
       "    .dataframe tbody tr th {\n",
       "        vertical-align: top;\n",
       "    }\n",
       "\n",
       "    .dataframe thead th {\n",
       "        text-align: right;\n",
       "    }\n",
       "</style>\n",
       "<table border=\"1\" class=\"dataframe\">\n",
       "  <thead>\n",
       "    <tr style=\"text-align: right;\">\n",
       "      <th></th>\n",
       "      <th>unregistered</th>\n",
       "      <th>registered</th>\n",
       "      <th>count</th>\n",
       "    </tr>\n",
       "    <tr>\n",
       "      <th>weather_condition</th>\n",
       "      <th></th>\n",
       "      <th></th>\n",
       "      <th></th>\n",
       "    </tr>\n",
       "  </thead>\n",
       "  <tbody>\n",
       "    <tr>\n",
       "      <th>Clear</th>\n",
       "      <td>462745</td>\n",
       "      <td>1875428</td>\n",
       "      <td>2338173</td>\n",
       "    </tr>\n",
       "    <tr>\n",
       "      <th>Mist</th>\n",
       "      <td>134481</td>\n",
       "      <td>661471</td>\n",
       "      <td>795952</td>\n",
       "    </tr>\n",
       "    <tr>\n",
       "      <th>Light Rain/Snow</th>\n",
       "      <td>22783</td>\n",
       "      <td>135548</td>\n",
       "      <td>158331</td>\n",
       "    </tr>\n",
       "    <tr>\n",
       "      <th>Heavy Rain/Snow</th>\n",
       "      <td>8</td>\n",
       "      <td>215</td>\n",
       "      <td>223</td>\n",
       "    </tr>\n",
       "  </tbody>\n",
       "</table>\n",
       "</div>"
      ],
      "text/plain": [
       "                   unregistered  registered    count\n",
       "weather_condition                                   \n",
       "Clear                    462745     1875428  2338173\n",
       "Mist                     134481      661471   795952\n",
       "Light Rain/Snow           22783      135548   158331\n",
       "Heavy Rain/Snow               8         215      223"
      ]
     },
     "execution_count": 81,
     "metadata": {},
     "output_type": "execute_result"
    }
   ],
   "source": [
    "# Menyusun ringkasan berdasarkan kondisi cuaca pada df_hour\n",
    "weather_summary_hours = df_hour.groupby(by=\"weather_condition\").agg({\n",
    "    \"unregistered\": \"sum\",\n",
    "    \"registered\": \"sum\",\n",
    "    \"count\": \"sum\"\n",
    "}).sort_values(by=\"count\", ascending=False)\n",
    "weather_summary_hours"
   ]
  },
  {
   "cell_type": "code",
   "execution_count": 82,
   "metadata": {
    "colab": {
     "base_uri": "https://localhost:8080/",
     "height": 833
    },
    "id": "cOZFfCQVHKVD",
    "outputId": "fad15c41-e389-4fa5-f701-f0dc13b02528"
   },
   "outputs": [
    {
     "data": {
      "text/html": [
       "<div>\n",
       "<style scoped>\n",
       "    .dataframe tbody tr th:only-of-type {\n",
       "        vertical-align: middle;\n",
       "    }\n",
       "\n",
       "    .dataframe tbody tr th {\n",
       "        vertical-align: top;\n",
       "    }\n",
       "\n",
       "    .dataframe thead th {\n",
       "        text-align: right;\n",
       "    }\n",
       "</style>\n",
       "<table border=\"1\" class=\"dataframe\">\n",
       "  <thead>\n",
       "    <tr style=\"text-align: right;\">\n",
       "      <th></th>\n",
       "      <th>unregistered</th>\n",
       "      <th>registered</th>\n",
       "      <th>count</th>\n",
       "    </tr>\n",
       "    <tr>\n",
       "      <th>hour</th>\n",
       "      <th></th>\n",
       "      <th></th>\n",
       "      <th></th>\n",
       "    </tr>\n",
       "  </thead>\n",
       "  <tbody>\n",
       "    <tr>\n",
       "      <th>17</th>\n",
       "      <td>54220</td>\n",
       "      <td>282640</td>\n",
       "      <td>336860</td>\n",
       "    </tr>\n",
       "    <tr>\n",
       "      <th>18</th>\n",
       "      <td>44496</td>\n",
       "      <td>265276</td>\n",
       "      <td>309772</td>\n",
       "    </tr>\n",
       "    <tr>\n",
       "      <th>8</th>\n",
       "      <td>15761</td>\n",
       "      <td>245240</td>\n",
       "      <td>261001</td>\n",
       "    </tr>\n",
       "    <tr>\n",
       "      <th>16</th>\n",
       "      <td>53834</td>\n",
       "      <td>173914</td>\n",
       "      <td>227748</td>\n",
       "    </tr>\n",
       "    <tr>\n",
       "      <th>19</th>\n",
       "      <td>35505</td>\n",
       "      <td>191284</td>\n",
       "      <td>226789</td>\n",
       "    </tr>\n",
       "    <tr>\n",
       "      <th>13</th>\n",
       "      <td>52713</td>\n",
       "      <td>132206</td>\n",
       "      <td>184919</td>\n",
       "    </tr>\n",
       "    <tr>\n",
       "      <th>12</th>\n",
       "      <td>49718</td>\n",
       "      <td>134696</td>\n",
       "      <td>184414</td>\n",
       "    </tr>\n",
       "    <tr>\n",
       "      <th>15</th>\n",
       "      <td>54606</td>\n",
       "      <td>128543</td>\n",
       "      <td>183149</td>\n",
       "    </tr>\n",
       "    <tr>\n",
       "      <th>14</th>\n",
       "      <td>55089</td>\n",
       "      <td>120563</td>\n",
       "      <td>175652</td>\n",
       "    </tr>\n",
       "    <tr>\n",
       "      <th>20</th>\n",
       "      <td>26378</td>\n",
       "      <td>138172</td>\n",
       "      <td>164550</td>\n",
       "    </tr>\n",
       "    <tr>\n",
       "      <th>9</th>\n",
       "      <td>22458</td>\n",
       "      <td>136980</td>\n",
       "      <td>159438</td>\n",
       "    </tr>\n",
       "    <tr>\n",
       "      <th>7</th>\n",
       "      <td>8037</td>\n",
       "      <td>146134</td>\n",
       "      <td>154171</td>\n",
       "    </tr>\n",
       "    <tr>\n",
       "      <th>11</th>\n",
       "      <td>43286</td>\n",
       "      <td>108034</td>\n",
       "      <td>151320</td>\n",
       "    </tr>\n",
       "    <tr>\n",
       "      <th>10</th>\n",
       "      <td>33789</td>\n",
       "      <td>92468</td>\n",
       "      <td>126257</td>\n",
       "    </tr>\n",
       "    <tr>\n",
       "      <th>21</th>\n",
       "      <td>20570</td>\n",
       "      <td>104875</td>\n",
       "      <td>125445</td>\n",
       "    </tr>\n",
       "    <tr>\n",
       "      <th>22</th>\n",
       "      <td>16200</td>\n",
       "      <td>79412</td>\n",
       "      <td>95612</td>\n",
       "    </tr>\n",
       "    <tr>\n",
       "      <th>23</th>\n",
       "      <td>11065</td>\n",
       "      <td>52876</td>\n",
       "      <td>63941</td>\n",
       "    </tr>\n",
       "    <tr>\n",
       "      <th>6</th>\n",
       "      <td>3017</td>\n",
       "      <td>52115</td>\n",
       "      <td>55132</td>\n",
       "    </tr>\n",
       "    <tr>\n",
       "      <th>0</th>\n",
       "      <td>7375</td>\n",
       "      <td>31755</td>\n",
       "      <td>39130</td>\n",
       "    </tr>\n",
       "    <tr>\n",
       "      <th>1</th>\n",
       "      <td>4709</td>\n",
       "      <td>19455</td>\n",
       "      <td>24164</td>\n",
       "    </tr>\n",
       "    <tr>\n",
       "      <th>2</th>\n",
       "      <td>3412</td>\n",
       "      <td>12940</td>\n",
       "      <td>16352</td>\n",
       "    </tr>\n",
       "    <tr>\n",
       "      <th>5</th>\n",
       "      <td>1012</td>\n",
       "      <td>13249</td>\n",
       "      <td>14261</td>\n",
       "    </tr>\n",
       "    <tr>\n",
       "      <th>3</th>\n",
       "      <td>1893</td>\n",
       "      <td>6281</td>\n",
       "      <td>8174</td>\n",
       "    </tr>\n",
       "    <tr>\n",
       "      <th>4</th>\n",
       "      <td>874</td>\n",
       "      <td>3554</td>\n",
       "      <td>4428</td>\n",
       "    </tr>\n",
       "  </tbody>\n",
       "</table>\n",
       "</div>"
      ],
      "text/plain": [
       "      unregistered  registered   count\n",
       "hour                                  \n",
       "17           54220      282640  336860\n",
       "18           44496      265276  309772\n",
       "8            15761      245240  261001\n",
       "16           53834      173914  227748\n",
       "19           35505      191284  226789\n",
       "13           52713      132206  184919\n",
       "12           49718      134696  184414\n",
       "15           54606      128543  183149\n",
       "14           55089      120563  175652\n",
       "20           26378      138172  164550\n",
       "9            22458      136980  159438\n",
       "7             8037      146134  154171\n",
       "11           43286      108034  151320\n",
       "10           33789       92468  126257\n",
       "21           20570      104875  125445\n",
       "22           16200       79412   95612\n",
       "23           11065       52876   63941\n",
       "6             3017       52115   55132\n",
       "0             7375       31755   39130\n",
       "1             4709       19455   24164\n",
       "2             3412       12940   16352\n",
       "5             1012       13249   14261\n",
       "3             1893        6281    8174\n",
       "4              874        3554    4428"
      ]
     },
     "execution_count": 82,
     "metadata": {},
     "output_type": "execute_result"
    }
   ],
   "source": [
    "# Menyusun ringkasan berdasarkan waktu penyewaan pada df_hour\n",
    "rental_duration_summary_hours = df_hour.groupby(by=\"hour\").agg({\n",
    "    \"unregistered\": \"sum\",\n",
    "    \"registered\": \"sum\",\n",
    "    \"count\": \"sum\"\n",
    "}).sort_values(by=\"count\", ascending=False)\n",
    "rental_duration_summary_hours"
   ]
  },
  {
   "cell_type": "markdown",
   "metadata": {
    "id": "PE6JmKcHJR_0"
   },
   "source": [
    "Membuat heatmap untuk melihat korelasi antarkolom pada df_day dan df_hour"
   ]
  },
  {
   "cell_type": "code",
   "execution_count": 83,
   "metadata": {
    "colab": {
     "base_uri": "https://localhost:8080/",
     "height": 1000
    },
    "id": "VRKbYgnYJA_J",
    "outputId": "0dd5d733-89cb-4d29-8b66-cd1b929bc5ae"
   },
   "outputs": [
    {
     "data": {
      "image/png": "[encoded data removed]",
      "text/plain": [
       "<Figure size 720x576 with 2 Axes>"
      ]
     },
     "metadata": {
      "needs_background": "light"
     },
     "output_type": "display_data"
    },
    {
     "data": {
      "image/png": "[encoded data removed]",
      "text/plain": [
       "<Figure size 720x576 with 2 Axes>"
      ]
     },
     "metadata": {
      "needs_background": "light"
     },
     "output_type": "display_data"
    }
   ],
   "source": [
    "# Membuat matriks korelasi dan heatmap untuk df_day\n",
    "correlation_matrix_days = df_day.corr()\n",
    "plt.figure(figsize=(10, 8))\n",
    "sns.heatmap(data=correlation_matrix_days, annot=True, cmap='viridis', linewidths=.5)\n",
    "plt.title(\"Korelasi Heatmap untuk df_day\")\n",
    "plt.show()\n",
    "\n",
    "# Membuat matriks korelasi dan heatmap untuk df_hour\n",
    "correlation_matrix_hours = df_hour.corr()\n",
    "plt.figure(figsize=(10, 8))\n",
    "sns.heatmap(data=correlation_matrix_hours, annot=True, cmap='magma', linewidths=.5)\n",
    "plt.title(\"Korelasi Heatmap untuk df_hour\")\n",
    "plt.show()"
   ]
  },
  {
   "cell_type": "markdown",
   "metadata": {
    "id": "Yw8wON0GJ2W5"
   },
   "source": [
    "Dapat dilihat dari kedua heatmap di atas, bahwa hubungan antarkolom yang bernilai 1 (positif) mempunyai hubungan korelasi yang kuat, dan hubungan antarkolom yang bernilai - (negatif) mempunyai hubungan korelasi yang lemah."
   ]
  },
  {
   "cell_type": "code",
   "execution_count": 84,
   "metadata": {
    "colab": {
     "base_uri": "https://localhost:8080/",
     "height": 617
    },
    "id": "Zl2VucI1KSC7",
    "outputId": "6f10e556-6f5e-45ad-f627-e28fe4f51edc"
   },
   "outputs": [
    {
     "data": {
      "text/html": [
       "<div>\n",
       "<style scoped>\n",
       "    .dataframe tbody tr th:only-of-type {\n",
       "        vertical-align: middle;\n",
       "    }\n",
       "\n",
       "    .dataframe tbody tr th {\n",
       "        vertical-align: top;\n",
       "    }\n",
       "\n",
       "    .dataframe thead th {\n",
       "        text-align: right;\n",
       "    }\n",
       "</style>\n",
       "<table border=\"1\" class=\"dataframe\">\n",
       "  <thead>\n",
       "    <tr style=\"text-align: right;\">\n",
       "      <th></th>\n",
       "      <th>instant_x</th>\n",
       "      <th>date</th>\n",
       "      <th>season_x</th>\n",
       "      <th>year_x</th>\n",
       "      <th>mnth</th>\n",
       "      <th>hour</th>\n",
       "      <th>holiday_x</th>\n",
       "      <th>weekday_x</th>\n",
       "      <th>workingday_x</th>\n",
       "      <th>weather_condition_x</th>\n",
       "      <th>...</th>\n",
       "      <th>weekday_y</th>\n",
       "      <th>workingday_y</th>\n",
       "      <th>weather_condition_y</th>\n",
       "      <th>temp_y</th>\n",
       "      <th>atemp_y</th>\n",
       "      <th>humidity_y</th>\n",
       "      <th>windspeed_y</th>\n",
       "      <th>unregistered_y</th>\n",
       "      <th>registered_y</th>\n",
       "      <th>count_y</th>\n",
       "    </tr>\n",
       "  </thead>\n",
       "  <tbody>\n",
       "    <tr>\n",
       "      <th>0</th>\n",
       "      <td>1</td>\n",
       "      <td>2011-01-01</td>\n",
       "      <td>springer</td>\n",
       "      <td>2011</td>\n",
       "      <td>1</td>\n",
       "      <td>0</td>\n",
       "      <td>0</td>\n",
       "      <td>6</td>\n",
       "      <td>0</td>\n",
       "      <td>Clear</td>\n",
       "      <td>...</td>\n",
       "      <td>6</td>\n",
       "      <td>0</td>\n",
       "      <td>2</td>\n",
       "      <td>0.344167</td>\n",
       "      <td>0.363625</td>\n",
       "      <td>0.805833</td>\n",
       "      <td>0.160446</td>\n",
       "      <td>331</td>\n",
       "      <td>654</td>\n",
       "      <td>985</td>\n",
       "    </tr>\n",
       "    <tr>\n",
       "      <th>1</th>\n",
       "      <td>2</td>\n",
       "      <td>2011-01-01</td>\n",
       "      <td>springer</td>\n",
       "      <td>2011</td>\n",
       "      <td>1</td>\n",
       "      <td>1</td>\n",
       "      <td>0</td>\n",
       "      <td>6</td>\n",
       "      <td>0</td>\n",
       "      <td>Clear</td>\n",
       "      <td>...</td>\n",
       "      <td>6</td>\n",
       "      <td>0</td>\n",
       "      <td>2</td>\n",
       "      <td>0.344167</td>\n",
       "      <td>0.363625</td>\n",
       "      <td>0.805833</td>\n",
       "      <td>0.160446</td>\n",
       "      <td>331</td>\n",
       "      <td>654</td>\n",
       "      <td>985</td>\n",
       "    </tr>\n",
       "    <tr>\n",
       "      <th>2</th>\n",
       "      <td>3</td>\n",
       "      <td>2011-01-01</td>\n",
       "      <td>springer</td>\n",
       "      <td>2011</td>\n",
       "      <td>1</td>\n",
       "      <td>2</td>\n",
       "      <td>0</td>\n",
       "      <td>6</td>\n",
       "      <td>0</td>\n",
       "      <td>Clear</td>\n",
       "      <td>...</td>\n",
       "      <td>6</td>\n",
       "      <td>0</td>\n",
       "      <td>2</td>\n",
       "      <td>0.344167</td>\n",
       "      <td>0.363625</td>\n",
       "      <td>0.805833</td>\n",
       "      <td>0.160446</td>\n",
       "      <td>331</td>\n",
       "      <td>654</td>\n",
       "      <td>985</td>\n",
       "    </tr>\n",
       "    <tr>\n",
       "      <th>3</th>\n",
       "      <td>4</td>\n",
       "      <td>2011-01-01</td>\n",
       "      <td>springer</td>\n",
       "      <td>2011</td>\n",
       "      <td>1</td>\n",
       "      <td>3</td>\n",
       "      <td>0</td>\n",
       "      <td>6</td>\n",
       "      <td>0</td>\n",
       "      <td>Clear</td>\n",
       "      <td>...</td>\n",
       "      <td>6</td>\n",
       "      <td>0</td>\n",
       "      <td>2</td>\n",
       "      <td>0.344167</td>\n",
       "      <td>0.363625</td>\n",
       "      <td>0.805833</td>\n",
       "      <td>0.160446</td>\n",
       "      <td>331</td>\n",
       "      <td>654</td>\n",
       "      <td>985</td>\n",
       "    </tr>\n",
       "    <tr>\n",
       "      <th>4</th>\n",
       "      <td>5</td>\n",
       "      <td>2011-01-01</td>\n",
       "      <td>springer</td>\n",
       "      <td>2011</td>\n",
       "      <td>1</td>\n",
       "      <td>4</td>\n",
       "      <td>0</td>\n",
       "      <td>6</td>\n",
       "      <td>0</td>\n",
       "      <td>Clear</td>\n",
       "      <td>...</td>\n",
       "      <td>6</td>\n",
       "      <td>0</td>\n",
       "      <td>2</td>\n",
       "      <td>0.344167</td>\n",
       "      <td>0.363625</td>\n",
       "      <td>0.805833</td>\n",
       "      <td>0.160446</td>\n",
       "      <td>331</td>\n",
       "      <td>654</td>\n",
       "      <td>985</td>\n",
       "    </tr>\n",
       "    <tr>\n",
       "      <th>...</th>\n",
       "      <td>...</td>\n",
       "      <td>...</td>\n",
       "      <td>...</td>\n",
       "      <td>...</td>\n",
       "      <td>...</td>\n",
       "      <td>...</td>\n",
       "      <td>...</td>\n",
       "      <td>...</td>\n",
       "      <td>...</td>\n",
       "      <td>...</td>\n",
       "      <td>...</td>\n",
       "      <td>...</td>\n",
       "      <td>...</td>\n",
       "      <td>...</td>\n",
       "      <td>...</td>\n",
       "      <td>...</td>\n",
       "      <td>...</td>\n",
       "      <td>...</td>\n",
       "      <td>...</td>\n",
       "      <td>...</td>\n",
       "      <td>...</td>\n",
       "    </tr>\n",
       "    <tr>\n",
       "      <th>17374</th>\n",
       "      <td>17375</td>\n",
       "      <td>2012-12-31</td>\n",
       "      <td>springer</td>\n",
       "      <td>2012</td>\n",
       "      <td>12</td>\n",
       "      <td>19</td>\n",
       "      <td>0</td>\n",
       "      <td>1</td>\n",
       "      <td>1</td>\n",
       "      <td>Mist</td>\n",
       "      <td>...</td>\n",
       "      <td>1</td>\n",
       "      <td>1</td>\n",
       "      <td>2</td>\n",
       "      <td>0.215833</td>\n",
       "      <td>0.223487</td>\n",
       "      <td>0.577500</td>\n",
       "      <td>0.154846</td>\n",
       "      <td>439</td>\n",
       "      <td>2290</td>\n",
       "      <td>2729</td>\n",
       "    </tr>\n",
       "    <tr>\n",
       "      <th>17375</th>\n",
       "      <td>17376</td>\n",
       "      <td>2012-12-31</td>\n",
       "      <td>springer</td>\n",
       "      <td>2012</td>\n",
       "      <td>12</td>\n",
       "      <td>20</td>\n",
       "      <td>0</td>\n",
       "      <td>1</td>\n",
       "      <td>1</td>\n",
       "      <td>Mist</td>\n",
       "      <td>...</td>\n",
       "      <td>1</td>\n",
       "      <td>1</td>\n",
       "      <td>2</td>\n",
       "      <td>0.215833</td>\n",
       "      <td>0.223487</td>\n",
       "      <td>0.577500</td>\n",
       "      <td>0.154846</td>\n",
       "      <td>439</td>\n",
       "      <td>2290</td>\n",
       "      <td>2729</td>\n",
       "    </tr>\n",
       "    <tr>\n",
       "      <th>17376</th>\n",
       "      <td>17377</td>\n",
       "      <td>2012-12-31</td>\n",
       "      <td>springer</td>\n",
       "      <td>2012</td>\n",
       "      <td>12</td>\n",
       "      <td>21</td>\n",
       "      <td>0</td>\n",
       "      <td>1</td>\n",
       "      <td>1</td>\n",
       "      <td>Clear</td>\n",
       "      <td>...</td>\n",
       "      <td>1</td>\n",
       "      <td>1</td>\n",
       "      <td>2</td>\n",
       "      <td>0.215833</td>\n",
       "      <td>0.223487</td>\n",
       "      <td>0.577500</td>\n",
       "      <td>0.154846</td>\n",
       "      <td>439</td>\n",
       "      <td>2290</td>\n",
       "      <td>2729</td>\n",
       "    </tr>\n",
       "    <tr>\n",
       "      <th>17377</th>\n",
       "      <td>17378</td>\n",
       "      <td>2012-12-31</td>\n",
       "      <td>springer</td>\n",
       "      <td>2012</td>\n",
       "      <td>12</td>\n",
       "      <td>22</td>\n",
       "      <td>0</td>\n",
       "      <td>1</td>\n",
       "      <td>1</td>\n",
       "      <td>Clear</td>\n",
       "      <td>...</td>\n",
       "      <td>1</td>\n",
       "      <td>1</td>\n",
       "      <td>2</td>\n",
       "      <td>0.215833</td>\n",
       "      <td>0.223487</td>\n",
       "      <td>0.577500</td>\n",
       "      <td>0.154846</td>\n",
       "      <td>439</td>\n",
       "      <td>2290</td>\n",
       "      <td>2729</td>\n",
       "    </tr>\n",
       "    <tr>\n",
       "      <th>17378</th>\n",
       "      <td>17379</td>\n",
       "      <td>2012-12-31</td>\n",
       "      <td>springer</td>\n",
       "      <td>2012</td>\n",
       "      <td>12</td>\n",
       "      <td>23</td>\n",
       "      <td>0</td>\n",
       "      <td>1</td>\n",
       "      <td>1</td>\n",
       "      <td>Clear</td>\n",
       "      <td>...</td>\n",
       "      <td>1</td>\n",
       "      <td>1</td>\n",
       "      <td>2</td>\n",
       "      <td>0.215833</td>\n",
       "      <td>0.223487</td>\n",
       "      <td>0.577500</td>\n",
       "      <td>0.154846</td>\n",
       "      <td>439</td>\n",
       "      <td>2290</td>\n",
       "      <td>2729</td>\n",
       "    </tr>\n",
       "  </tbody>\n",
       "</table>\n",
       "<p>17379 rows × 32 columns</p>\n",
       "</div>"
      ],
      "text/plain": [
       "       instant_x       date  season_x year_x  mnth  hour holiday_x weekday_x  \\\n",
       "0              1 2011-01-01  springer   2011     1     0         0         6   \n",
       "1              2 2011-01-01  springer   2011     1     1         0         6   \n",
       "2              3 2011-01-01  springer   2011     1     2         0         6   \n",
       "3              4 2011-01-01  springer   2011     1     3         0         6   \n",
       "4              5 2011-01-01  springer   2011     1     4         0         6   \n",
       "...          ...        ...       ...    ...   ...   ...       ...       ...   \n",
       "17374      17375 2012-12-31  springer   2012    12    19         0         1   \n",
       "17375      17376 2012-12-31  springer   2012    12    20         0         1   \n",
       "17376      17377 2012-12-31  springer   2012    12    21         0         1   \n",
       "17377      17378 2012-12-31  springer   2012    12    22         0         1   \n",
       "17378      17379 2012-12-31  springer   2012    12    23         0         1   \n",
       "\n",
       "      workingday_x weather_condition_x  ...  weekday_y  workingday_y  \\\n",
       "0                0               Clear  ...          6             0   \n",
       "1                0               Clear  ...          6             0   \n",
       "2                0               Clear  ...          6             0   \n",
       "3                0               Clear  ...          6             0   \n",
       "4                0               Clear  ...          6             0   \n",
       "...            ...                 ...  ...        ...           ...   \n",
       "17374            1                Mist  ...          1             1   \n",
       "17375            1                Mist  ...          1             1   \n",
       "17376            1               Clear  ...          1             1   \n",
       "17377            1               Clear  ...          1             1   \n",
       "17378            1               Clear  ...          1             1   \n",
       "\n",
       "       weather_condition_y    temp_y   atemp_y  humidity_y  windspeed_y  \\\n",
       "0                        2  0.344167  0.363625    0.805833     0.160446   \n",
       "1                        2  0.344167  0.363625    0.805833     0.160446   \n",
       "2                        2  0.344167  0.363625    0.805833     0.160446   \n",
       "3                        2  0.344167  0.363625    0.805833     0.160446   \n",
       "4                        2  0.344167  0.363625    0.805833     0.160446   \n",
       "...                    ...       ...       ...         ...          ...   \n",
       "17374                    2  0.215833  0.223487    0.577500     0.154846   \n",
       "17375                    2  0.215833  0.223487    0.577500     0.154846   \n",
       "17376                    2  0.215833  0.223487    0.577500     0.154846   \n",
       "17377                    2  0.215833  0.223487    0.577500     0.154846   \n",
       "17378                    2  0.215833  0.223487    0.577500     0.154846   \n",
       "\n",
       "       unregistered_y registered_y count_y  \n",
       "0                 331          654     985  \n",
       "1                 331          654     985  \n",
       "2                 331          654     985  \n",
       "3                 331          654     985  \n",
       "4                 331          654     985  \n",
       "...               ...          ...     ...  \n",
       "17374             439         2290    2729  \n",
       "17375             439         2290    2729  \n",
       "17376             439         2290    2729  \n",
       "17377             439         2290    2729  \n",
       "17378             439         2290    2729  \n",
       "\n",
       "[17379 rows x 32 columns]"
      ]
     },
     "execution_count": 84,
     "metadata": {},
     "output_type": "execute_result"
    }
   ],
   "source": [
    "# Menggabungkan dua dataset berdasarkan tanggal\n",
    "all_df = pd.merge(\n",
    "    left=df_hour,\n",
    "    right=df_day,\n",
    "    how=\"left\",\n",
    "    left_on=\"date\",\n",
    "    right_on=\"date\"\n",
    ")\n",
    "all_df"
   ]
  },
  {
   "cell_type": "markdown",
   "metadata": {
    "id": "EUPxccZIQ8JI"
   },
   "source": [
    "Kolom yang terdapat _x merupakan kolom dari df_day dan kolom yang terdapat _y kolom dari f_hour"
   ]
  },
  {
   "cell_type": "markdown",
   "metadata": {
    "id": "zsyZjqak8DC2"
   },
   "source": [
    "## Visualization & Explanatory Analysis"
   ]
  },
  {
   "cell_type": "markdown",
   "metadata": {
    "id": "HZxOiQ6n8DC2"
   },
   "source": [
    "### Pertanyaan 1: Bagaimana tren peminjaman sepeda berubah berdasarkan musim (springer, summer, fall, winter) selama dua tahun (2011 dan 2012)?"
   ]
  },
  {
   "cell_type": "code",
   "execution_count": 85,
   "metadata": {
    "colab": {
     "base_uri": "https://localhost:8080/",
     "height": 522
    },
    "id": "9KkL2PrITcYE",
    "outputId": "a08858e0-ea4b-4c18-c435-d8e60deb8d67"
   },
   "outputs": [
    {
     "data": {
      "image/png": "[encoded data removed]",
      "text/plain": [
       "<Figure size 432x288 with 1 Axes>"
      ]
     },
     "metadata": {
      "needs_background": "light"
     },
     "output_type": "display_data"
    }
   ],
   "source": [
    "# Menggunakan data dari dataset yang digabung (all_df)\n",
    "custom_color_list = ['#e91e63', '#bdbdbd', '#bdbdbd', '#bdbdbd']  # Warna pink dan abu\n",
    "\n",
    "# Mengelompokkan data berdasarkan musim dan tahun, kemudian menghitung total peminjaman\n",
    "custom_seasonal_trend = all_df.groupby(['year_x', 'season_x'])['count_x'].sum().reset_index()\n",
    "\n",
    "# Membuat barplot dengan warna yang diubah\n",
    "sns.barplot(data=custom_seasonal_trend, x='season_x', y='count_x', hue='year_x', palette=custom_color_list)\n",
    "\n",
    "plt.title(\"Tren Peminjaman Sepeda Berdasarkan Musim pada Tahun (2011 dan 2012)\")\n",
    "plt.xlabel('Musim')\n",
    "plt.ylabel('Total Peminjaman')\n",
    "\n",
    "plt.tight_layout()\n",
    "plt.show()"
   ]
  },
  {
   "cell_type": "markdown",
   "metadata": {
    "id": "DgHI7CiU8DC2"
   },
   "source": [
    "### Pertanyaan 2: Bagaimana perilaku peminjaman sepeda berubah saat terjadi perubahan mendadak dalam keadaan cuaca, dan apakah pengguna sepeda lebih memilih bersepeda pada cuaca ekstrem atau sebaliknya?"
   ]
  },
  {
   "cell_type": "code",
   "execution_count": 86,
   "metadata": {
    "colab": {
     "base_uri": "https://localhost:8080/",
     "height": 596
    },
    "id": "Go0lCsvO8DC2",
    "outputId": "6161f427-3bf6-4608-9fbc-43e9badf1e84"
   },
   "outputs": [
    {
     "data": {
      "image/png": "[encoded data removed]",
      "text/plain": [
       "<Figure size 720x360 with 1 Axes>"
      ]
     },
     "metadata": {
      "needs_background": "light"
     },
     "output_type": "display_data"
    }
   ],
   "source": [
    "# Mengelompokkan data berdasarkan kondisi cuaca dan menghitung total peminjaman\n",
    "weather_effect_df = all_df.groupby('weather_condition_x')['count_x'].sum().reset_index()\n",
    "\n",
    "# Mengganti data weather_condition dengan kondisi yang lebih deskriptif\n",
    "weather_effect_df.replace({\n",
    "    'weather_condition_x': {\n",
    "        1: 'Cerah',\n",
    "        2: 'Kabut',\n",
    "        3: 'Hujan Ringan, Salju Ringan',\n",
    "        4: 'Hujan Lebat, Salju, Kabut'\n",
    "    }\n",
    "}, inplace=True)\n",
    "\n",
    "# Mengurutkan data berdasarkan total peminjaman dengan urutan menurun\n",
    "weather_effect_df = weather_effect_df.sort_values('count_x', ascending=False)\n",
    "\n",
    "# Mendefinisikan palet warna\n",
    "custom_color_palette = ['#BA68C8', '#D3D3D3', '#D3D3D3', '#D3D3D3']  # Ungu dan light grey\n",
    "\n",
    "# Membuat barplot dengan tampilan jumlah peminjaman\n",
    "plt.figure(figsize=(10, 5))\n",
    "ax = sns.barplot(\n",
    "    x='count_x',\n",
    "    y='weather_condition_x',\n",
    "    data=weather_effect_df,\n",
    "    palette=custom_color_palette\n",
    ")\n",
    "plt.title(\"Perilaku Peminjaman Sepeda dalam Berbagai Kondisi Cuaca\", loc=\"center\", fontsize=15)\n",
    "plt.ylabel(\"Kondisi Cuaca\")\n",
    "plt.xlabel(\"Total Peminjaman\")\n",
    "\n",
    "# Menambahkan data label\n",
    "for p in ax.patches:\n",
    "    width = p.get_width()\n",
    "    plt.text(width, p.get_y() + p.get_height() / 2, f\"{width:,.0f}\", ha='left', va='center', color='black')\n",
    "\n",
    "plt.tick_params(axis='y', labelsize=12)\n",
    "plt.show()"
   ]
  },
  {
   "cell_type": "markdown",
   "metadata": {
    "id": "5iiOKN9ILIRZ"
   },
   "source": [
    "### Pertanyaan 3: Bagaimana distribusi peminjaman sepeda berdasarkan hari kerja dan libur selama dua tahun terakhir?"
   ]
  },
  {
   "cell_type": "code",
   "execution_count": 87,
   "metadata": {
    "colab": {
     "base_uri": "https://localhost:8080/",
     "height": 641
    },
    "id": "7dzpWRKULJs7",
    "outputId": "00f51e8e-13e5-4ad5-8e79-97e00a79d439"
   },
   "outputs": [
    {
     "data": {
      "image/png": "[encoded data removed]",
      "text/plain": [
       "<Figure size 864x504 with 1 Axes>"
      ]
     },
     "metadata": {
      "needs_background": "light"
     },
     "output_type": "display_data"
    }
   ],
   "source": [
    "# Mengelompokkan data\n",
    "grouped_hour_custom = all_df.groupby(['workingday_x', 'hour'])['count_x'].mean().reset_index(name='average_counts')\n",
    "\n",
    "# Plotting dengan warna yang diubah\n",
    "fig, ax = plt.subplots(figsize=(12, 7))\n",
    "\n",
    "# Loop melalui nilai workingday yang unik\n",
    "for workingday, group in grouped_hour_custom.groupby('workingday_x'):\n",
    "    ax.plot(group['hour'], group['average_counts'], label=f'Jenis Hari: {\"Hari Kerja\" if workingday else \"Akhir Pekan\"}', color=('blue' if workingday else 'yellow'))\n",
    "\n",
    "# Atur properti plot\n",
    "ax.set_xlabel('Jam')\n",
    "ax.set_ylabel('Rata-rata Jumlah Pengguna')\n",
    "ax.set_title('Rata-rata Jumlah Pengguna Rental Sepeda per Jam Berdasarkan Hari Kerja dan Libur')\n",
    "\n",
    "# Tampilkan legenda\n",
    "plt.legend(title='Jenis Hari', loc='upper right', labels=['Hari Kerja', 'Libur'])\n",
    "\n",
    "# Tampilkan plot\n",
    "plt.xticks(list(range(24)))  # Menambahkan label jam di sumbu x\n",
    "plt.show()"
   ]
  },
  {
   "cell_type": "markdown",
   "metadata": {
    "id": "_WeHlCeX8DC2"
   },
   "source": [
    "## Conclusion"
   ]
  },
  {
   "cell_type": "markdown",
   "metadata": {
    "id": "ZTcyR48Y8DC2"
   },
   "source": [
    "**- Conclusion pertanyaan 1** :\n",
    "\n",
    "Dari visualisasi barplot, terlihat bahwa terjadi peningkatan jumlah peminjaman sepeda pada tahun 2012, terutama pada musim fall. Peminjaman sepeda pada musim gugur tahun 2012 mencapai puncaknya dibandingkan dengan musim lainnya pada tahun yang sama, serta dibandingkan dengan musim-musim pada tahun 2011. Warna pink dan abu yang digunakan dalam visualisasi memberikan kontrast yang jelas antara tahun 2011 dan 2012. Kesimpulan ini memberikan informasi berharga untuk pengambilan keputusan terkait manajemen sepeda dan layanan pada musim tertentu.\n",
    "\n",
    "**- Conclusion pertanyaan 2**\n",
    "Dari hasil visualisasi barplot di atas, dapat disimpulkan bahwa perilaku peminjaman sepeda berubah berdasarkan kondisi cuaca. Kondisi cuaca yang berpengaruh signifikan terhadap perilaku peminjaman sepeda tertinggi adalah cuaca clear (cerah) dengan jumlah peminjam mencapai 2.338.173, sedangkan kondisi cuaca yang paling rendah adalah Heavy Rain/Snow (Hujan Lebat, Salju, Kabut). Perbedaan jumlah peminjaman antara kondisi cuaca yang berbeda menunjukkan adanya pola perilaku pengguna sepeda dalam merespon kondisi cuaca tertentu. Hal ini dapat menjadi informasi berharga bagi penyedia layanan sepeda dalam mengoptimalkan strategi pelayanan dan pengelolaan sepeda berdasarkan prakiraan cuaca.\n",
    "\n",
    "**- Conclusion pertanyaan 3**\n",
    "Dari visualisasi rata-rata jumlah pengguna rental sepeda per jam berdasarkan hari kerja dan libur, dapat disimpulkan bahwa terdapat perbedaan pola penggunaan sepeda antara hari kerja dan libur. Pada hari libur, puncak penggunaan sepeda terjadi pada jam 8 pagi dan 5 sore. Sementara itu, pada hari kerja, rata-rata jumlah pengguna terbanyak justru terjadi pada jam 1 siang. Hal ini menunjukkan bahwa kebiasaan penggunaan sepeda cenderung bervariasi tergantung pada jenis hari, dan pemahaman ini dapat menjadi landasan bagi penyelenggara layanan sepeda untuk mengoptimalkan penempatan dan ketersediaan sepeda sesuai dengan pola penggunaan yang berbeda di berbagai waktu."
   ]
  },
  {
   "cell_type": "markdown",
   "metadata": {
    "id": "N7cn-k6Ug6eA"
   },
   "source": [
    "***Analisis Lanjutan RFM***"
   ]
  },
  {
   "cell_type": "code",
   "execution_count": 88,
   "metadata": {
    "colab": {
     "base_uri": "https://localhost:8080/"
    },
    "id": "PFAULkOLVxnP",
    "outputId": "cad1694e-f03a-47a9-a603-1e45d4014415"
   },
   "outputs": [
    {
     "name": "stdout",
     "output_type": "stream",
     "text": [
      "            date  recency  frequency  monetary  R  F  M RFM_Score\n",
      "0     2011-01-01     4811       1001    644398  4  1  1       411\n",
      "1     2011-01-01     4811       1025    645470  4  1  1       411\n",
      "2     2011-01-01     4811       1017    645054  4  1  1       411\n",
      "3     2011-01-01     4811        998    644320  4  1  1       411\n",
      "4     2011-01-01     4811        986    644191  4  1  1       411\n",
      "...          ...      ...        ...       ... .. .. ..       ...\n",
      "17374 2012-12-31     4081       2848   6262262  1  1  1       111\n",
      "17375 2012-12-31     4081       2818   6256619  1  1  1       111\n",
      "17376 2012-12-31     4081       2819   6256880  1  1  1       111\n",
      "17377 2012-12-31     4081       2790   6252338  1  1  1       111\n",
      "17378 2012-12-31     4081       2778   6251223  1  1  1       111\n",
      "\n",
      "[17379 rows x 8 columns]\n"
     ]
    }
   ],
   "source": [
    "from datetime import datetime\n",
    "\n",
    "# Calculate Recency, Frequency, and Monetary values\n",
    "current_date = datetime.now()\n",
    "all_df['recency'] = (current_date - all_df['date']).dt.days\n",
    "all_df['frequency'] = all_df['count_x'] + all_df['count_y']\n",
    "all_df['monetary'] = all_df['count_x'] * all_df['registered_x'] + all_df['count_y'] * all_df['registered_y']\n",
    "\n",
    "# Define quartiles\n",
    "recency_quartile = pd.qcut(all_df['recency'], q=4, labels=False)\n",
    "frequency_quartile = pd.qcut(all_df['frequency'], q=4, labels=False)\n",
    "monetary_quartile = pd.qcut(all_df['monetary'], q=4, labels=False)\n",
    "\n",
    "# Assign RFM scores to DataFrame\n",
    "all_df['R'] = recency_quartile + 1  # Add 1 to start scores from 1\n",
    "all_df['F'] = frequency_quartile + 1\n",
    "all_df['M'] = monetary_quartile + 1\n",
    "\n",
    "# Combine RFM scores into one column\n",
    "all_df['RFM_Score'] = all_df['R'].astype(str) + all_df['F'].astype(str) + all_df['M'].astype(str)\n",
    "\n",
    "# Display DataFrame with RFM scores\n",
    "print(all_df[['date', 'recency', 'frequency', 'monetary', 'R', 'F', 'M', 'RFM_Score']])"
   ]
  },
  {
   "cell_type": "markdown",
   "metadata": {
    "id": "OY12ZMbpkFhX"
   },
   "source": [
    "Dalam analisis RFM (Recency, Frequency, Monetary), menghitung skor untuk setiap dimensi berdasarkan quartile. Dari hasil tersebut, dapat dilihat bahwa setiap entitas dalam dataset memiliki nilai skor Recency (R), Frequency (F), dan Monetary (M) yang menggambarkan perilaku peminjaman sepeda mereka. Skor RFM kemudian digabungkan menjadi satu kolom 'RFM_Score'. Analisis ini membantu untuk memahami sejauh mana entitas tersebut berkontribusi dalam hal ketertarikan, frekuensi, dan nilai moneter dalam rentang waktu tertentu, memberikan gambaran yang lebih komprehensif tentang profil pelanggan."
   ]
  },
  {
   "cell_type": "code",
   "execution_count": 89,
   "metadata": {
    "colab": {
     "base_uri": "https://localhost:8080/",
     "height": 396
    },
    "id": "zhW6hjOlhs05",
    "outputId": "7cc07463-2590-4ab5-a9da-11c3bcbcc36e"
   },
   "outputs": [
    {
     "data": {
      "image/png": "[encoded data removed]",
      "text/plain": [
       "<Figure size 864x288 with 3 Axes>"
      ]
     },
     "metadata": {
      "needs_background": "light"
     },
     "output_type": "display_data"
    }
   ],
   "source": [
    "# Visualisasi Recency\n",
    "plt.figure(figsize=(12, 4))\n",
    "plt.subplot(1, 3, 1)\n",
    "sns.histplot(all_df['recency'], bins=20, kde=True, color='skyblue')\n",
    "plt.title('Recency Distribution')\n",
    "\n",
    "# Visualisasi Frequency\n",
    "plt.subplot(1, 3, 2)\n",
    "sns.histplot(all_df['frequency'], bins=20, kde=True, color='salmon')\n",
    "plt.title('Frequency Distribution')\n",
    "\n",
    "# Visualisasi Monetary\n",
    "plt.subplot(1, 3, 3)\n",
    "sns.histplot(all_df['monetary'], bins=20, kde=True, color='lightgreen')\n",
    "plt.title('Monetary Distribution')\n",
    "\n",
    "plt.tight_layout()\n",
    "plt.show()"
   ]
  },
  {
   "cell_type": "code",
   "execution_count": 90,
   "metadata": {
    "colab": {
     "base_uri": "https://localhost:8080/",
     "height": 654
    },
    "id": "A_FtlzdrkhN3",
    "outputId": "21ce1884-7aab-4511-c5d6-8ae9c7b28f58"
   },
   "outputs": [
    {
     "data": {
      "image/png": "[encoded data removed]",
      "text/plain": [
       "<Figure size 864x504 with 1 Axes>"
      ]
     },
     "metadata": {
      "needs_background": "light"
     },
     "output_type": "display_data"
    }
   ],
   "source": [
    "# Visualisasi Skor RFM\n",
    "plt.figure(figsize=(12, 7))\n",
    "\n",
    "# Bar plot untuk distribusi RFM Score\n",
    "all_df['RFM_Score'].value_counts().sort_index().plot(kind='bar', color='navy')\n",
    "\n",
    "# Menambahkan judul dan label\n",
    "plt.title('Grafik Skor RFM')\n",
    "plt.xlabel('Skor RFM')\n",
    "plt.ylabel('Jumlah')\n",
    "\n",
    "plt.show()"
   ]
  },
  {
   "cell_type": "markdown",
   "metadata": {
    "id": "_5gNOcdplz4t"
   },
   "source": [
    "Visualisasi ini memberikan gambaran bahwa mayoritas pelanggan memiliki skor RFM yang cenderung rendah, mengindikasikan tingkat aktivitas dan nilai yang lebih rendah. Analisis ini dapat menjadi landasan untuk pengembangan strategi pemasaran yang lebih efektif dan upaya peningkatan retensi pelanggan untuk meningkatkan nilai bisnis."
   ]
  },
  {
   "cell_type": "code",
   "execution_count": 92,
   "metadata": {
    "colab": {
     "base_uri": "https://localhost:8080/",
     "height": 17
    },
    "id": "V2YZZSVFk9Dq",
    "outputId": "349efc7e-5123-41d4-9944-034f4f75c824"
   },
   "outputs": [],
   "source": [
    "# Assuming all_df is your DataFrame\n",
    "# Save DataFrame to CSV file\n",
    "all_df.to_csv(\"all_df.csv\", index=False)"
   ]
  }
 ],
 "metadata": {
  "colab": {
   "provenance": []
  },
  "kernelspec": {
   "display_name": "Python 3 (ipykernel)",
   "language": "python",
   "name": "python3"
  },
  "language_info": {
   "codemirror_mode": {
    "name": "ipython",
    "version": 3
   },
   "file_extension": ".py",
   "mimetype": "text/x-python",
   "name": "python",
   "nbconvert_exporter": "python",
   "pygments_lexer": "ipython3",
   "version": "3.9.12"
  },
  "vscode": {
   "interpreter": {
    "hash": "972b3bf27e332e87b5379f2791f6ef9dfc79c71018c370b0d7423235e20fe4d7"
   }
  }
 },
 "nbformat": 4,
 "nbformat_minor": 4
}
